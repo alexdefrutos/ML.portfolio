{
  "nbformat": 4,
  "nbformat_minor": 0,
  "metadata": {
    "colab": {
      "name": "MNIST.ipynb",
      "version": "0.3.2",
      "provenance": [],
      "collapsed_sections": [
        "Dp6nRTnVfpg7",
        "_23ZbFWZgwHY"
      ],
      "toc_visible": true
    },
    "kernelspec": {
      "name": "python3",
      "display_name": "Python 3"
    },
    "accelerator": "GPU"
  },
  "cells": [
    {
      "cell_type": "markdown",
      "metadata": {
        "id": "ZGrT7vfEoYia",
        "colab_type": "text"
      },
      "source": [
        "# Lesson 1 - MNIST\n"
      ]
    },
    {
      "cell_type": "markdown",
      "metadata": {
        "id": "3NnE0xwveRe3",
        "colab_type": "text"
      },
      "source": [
        "## Mounting Google drive"
      ]
    },
    {
      "cell_type": "code",
      "metadata": {
        "id": "CoJk4A2FfC4C",
        "colab_type": "code",
        "outputId": "061d80b6-48bd-453a-ff87-0f0d5f895add",
        "colab": {
          "base_uri": "https://localhost:8080/",
          "height": 129
        }
      },
      "source": [
        "from google.colab import drive\n",
        "drive.mount('/gdrive')"
      ],
      "execution_count": 0,
      "outputs": [
        {
          "output_type": "stream",
          "text": [
            "Go to this URL in a browser: https://accounts.google.com/o/oauth2/auth?client_id=947318989803-6bn6qk8qdgf4n4g3pfee6491hc0brc4i.apps.googleusercontent.com&redirect_uri=urn%3Aietf%3Awg%3Aoauth%3A2.0%3Aoob&scope=email%20https%3A%2F%2Fwww.googleapis.com%2Fauth%2Fdocs.test%20https%3A%2F%2Fwww.googleapis.com%2Fauth%2Fdrive%20https%3A%2F%2Fwww.googleapis.com%2Fauth%2Fdrive.photos.readonly%20https%3A%2F%2Fwww.googleapis.com%2Fauth%2Fpeopleapi.readonly&response_type=code\n",
            "\n",
            "Enter your authorization code:\n",
            "··········\n",
            "Mounted at /gdrive\n"
          ],
          "name": "stdout"
        }
      ]
    },
    {
      "cell_type": "code",
      "metadata": {
        "id": "1nOyJ99KYLO7",
        "colab_type": "code",
        "outputId": "2b206af6-8466-4617-db06-2ba91ac4ad8f",
        "colab": {
          "base_uri": "https://localhost:8080/",
          "height": 72
        }
      },
      "source": [
        "\n",
        "%cd /gdrive/My\\ Drive/Colab\\ Notebooks/Kaggle/MNIST\n",
        "!ls\n"
      ],
      "execution_count": 0,
      "outputs": [
        {
          "output_type": "stream",
          "text": [
            "/gdrive/My Drive/Colab Notebooks/Kaggle/MNIST\n",
            "digit-recognizer.zip  sample_submission.csv  test.csv\n",
            "MNIST.ipynb\t      small_smiley.png\t     train.csv\n"
          ],
          "name": "stdout"
        }
      ]
    },
    {
      "cell_type": "code",
      "metadata": {
        "id": "VH3mv2-wfC1F",
        "colab_type": "code",
        "colab": {}
      },
      "source": [
        "import os\n",
        "from os import walk\n"
      ],
      "execution_count": 0,
      "outputs": []
    },
    {
      "cell_type": "markdown",
      "metadata": {
        "id": "1e4jMAuHoYjN",
        "colab_type": "text"
      },
      "source": [
        "## Looking at the data"
      ]
    },
    {
      "cell_type": "code",
      "metadata": {
        "id": "Dmo8a1FEIvr3",
        "colab_type": "code",
        "outputId": "219adb8f-baeb-4258-e650-aa9697b9b8fe",
        "colab": {
          "base_uri": "https://localhost:8080/",
          "height": 109
        }
      },
      "source": [
        "#!unzip digit-recognizer.zip\n",
        "#!ls"
      ],
      "execution_count": 0,
      "outputs": [
        {
          "output_type": "stream",
          "text": [
            "Archive:  digit-recognizer.zip\n",
            "  inflating: train.csv               \n",
            "  inflating: test.csv                \n",
            "  inflating: sample_submission.csv   \n",
            "digit-recognizer.zip  MNIST.ipynb  sample_submission.csv  test.csv  train.csv\n"
          ],
          "name": "stdout"
        }
      ]
    },
    {
      "cell_type": "code",
      "metadata": {
        "id": "kD7bjxSGoYjS",
        "colab_type": "code",
        "outputId": "eb59a619-da76-493f-a739-c4ecfb105222",
        "colab": {
          "base_uri": "https://localhost:8080/",
          "height": 54
        }
      },
      "source": [
        "print(os.getcwd())\n",
        "\n"
      ],
      "execution_count": 0,
      "outputs": [
        {
          "output_type": "stream",
          "text": [
            "/gdrive/My Drive/Colab Notebooks/Kaggle/MNIST\n",
            "digit-recognizer.zip  MNIST.ipynb  sample_submission.csv  test.csv  train.csv\n"
          ],
          "name": "stdout"
        }
      ]
    },
    {
      "cell_type": "code",
      "metadata": {
        "id": "ZNpcTQQPej8d",
        "colab_type": "code",
        "colab": {}
      },
      "source": [
        "import pandas as pd\n",
        "import numpy as np"
      ],
      "execution_count": 0,
      "outputs": []
    },
    {
      "cell_type": "code",
      "metadata": {
        "id": "ZLfo7WJ5YXW8",
        "colab_type": "code",
        "colab": {}
      },
      "source": [
        "train = pd.read_csv('train.csv')\n",
        "test=pd.read_csv('test.csv')\n",
        "sub=pd.read_csv('sample_submission.csv')"
      ],
      "execution_count": 0,
      "outputs": []
    },
    {
      "cell_type": "code",
      "metadata": {
        "id": "elowoXVrGvCj",
        "colab_type": "code",
        "outputId": "e0fdc456-7373-47c6-a155-da37ee0b99f2",
        "colab": {
          "base_uri": "https://localhost:8080/",
          "height": 35
        }
      },
      "source": [
        "train.shape,test.shape"
      ],
      "execution_count": 0,
      "outputs": [
        {
          "output_type": "execute_result",
          "data": {
            "text/plain": [
              "((42000, 785), (28000, 784))"
            ]
          },
          "metadata": {
            "tags": []
          },
          "execution_count": 8
        }
      ]
    },
    {
      "cell_type": "markdown",
      "metadata": {
        "id": "Dp6nRTnVfpg7",
        "colab_type": "text"
      },
      "source": [
        "### Processing training data"
      ]
    },
    {
      "cell_type": "code",
      "metadata": {
        "id": "9IGYuJOwPlyU",
        "colab_type": "code",
        "colab": {}
      },
      "source": [
        "# To get the values of the pandas.\n",
        "# The drop function identifies the label ' Label' and deletes either the row ( axis 0) or the column ( axis =1)\n",
        "X = train.drop(['label'],axis=1).values\n"
      ],
      "execution_count": 0,
      "outputs": []
    },
    {
      "cell_type": "code",
      "metadata": {
        "id": "hANh6GOQoYj0",
        "colab_type": "code",
        "outputId": "3ca06355-1bc5-4da2-b249-3f6d9f767267",
        "colab": {
          "base_uri": "https://localhost:8080/",
          "height": 54
        }
      },
      "source": [
        "# Variable X has the values of the pixels ( We have deleted the labels)\n",
        "X.shape\n",
        "print ('The max value of the X variable is:',np.amax(X))\n",
        "print ('The minimim value of the X variable is:',np.amin(X))"
      ],
      "execution_count": 0,
      "outputs": [
        {
          "output_type": "stream",
          "text": [
            "The max value of the X variable is: 255\n",
            "The minimim value of the X variable is: 0\n"
          ],
          "name": "stdout"
        }
      ]
    },
    {
      "cell_type": "code",
      "metadata": {
        "id": "Siqv67dqoYjq",
        "colab_type": "code",
        "outputId": "0319d10d-80a7-4f17-b861-7c2650e83f6e",
        "colab": {
          "base_uri": "https://localhost:8080/",
          "height": 35
        }
      },
      "source": [
        "# But we need the labels in order to train the model.\n",
        "y = train['label'].values \n",
        "print(' These are the first labels of the set-->',y[:5])"
      ],
      "execution_count": 0,
      "outputs": [
        {
          "output_type": "stream",
          "text": [
            " These are the first labels of the set--> [1 0 1 4 0]\n"
          ],
          "name": "stdout"
        }
      ]
    },
    {
      "cell_type": "markdown",
      "metadata": {
        "id": "_23ZbFWZgwHY",
        "colab_type": "text"
      },
      "source": [
        "### Processing test data"
      ]
    },
    {
      "cell_type": "code",
      "metadata": {
        "id": "Hxw9KXXP9mhd",
        "colab_type": "code",
        "outputId": "45cd5990-3b58-43e3-8174-4f566dd07e40",
        "colab": {
          "base_uri": "https://localhost:8080/",
          "height": 54
        }
      },
      "source": [
        "# Very similar to what we did to the train data. \n",
        "# We need just the values of the pixels.\n",
        "\n",
        "test_x=test.values\n",
        "\n",
        "print ('The max value of the test_x variable is:',np.amax(test_x))\n",
        "print ('The minimim value of the test_x variable is:',np.amin(test_x))\n"
      ],
      "execution_count": 0,
      "outputs": [
        {
          "output_type": "stream",
          "text": [
            "The max value of the test_x variable is: 255\n",
            "The minimim value of the test_x variable is: 0\n"
          ],
          "name": "stdout"
        }
      ]
    },
    {
      "cell_type": "markdown",
      "metadata": {
        "id": "5kgKW57bh42m",
        "colab_type": "text"
      },
      "source": [
        "### Machine learning feature engineering"
      ]
    },
    {
      "cell_type": "code",
      "metadata": {
        "id": "RdkJh-WkKaGM",
        "colab_type": "code",
        "colab": {}
      },
      "source": [
        "# ML algorithims perform better is they use data with range [0..1]\n",
        "X = X / np.amax(X)\n",
        "test_x = test_x / np.amax(test_x)"
      ],
      "execution_count": 0,
      "outputs": []
    },
    {
      "cell_type": "code",
      "metadata": {
        "id": "n8RewGz9iru2",
        "colab_type": "code",
        "outputId": "57530410-42b4-4111-da0a-1b7ed26ac430",
        "colab": {
          "base_uri": "https://localhost:8080/",
          "height": 90
        }
      },
      "source": [
        "# In addtion, ML algorithim works better with squared data.\n",
        "print('The current shape of the training data is:',X.shape)\n",
        "print('The current shape of the testing data is:',test_x.shape)\n",
        "\n",
        "#After reshaping\n",
        "\n",
        "X = X.reshape(X.shape[0],28,28,1)\n",
        "test_x = test_x.reshape(test_x.shape[0],28,28,1)\n",
        "\n",
        "print('The new shape of the training data is:',X.shape)\n",
        "print('The new shape of the testing data is:',test_x.shape)"
      ],
      "execution_count": 0,
      "outputs": [
        {
          "output_type": "stream",
          "text": [
            "The current shape of the training data is: (42000, 784)\n",
            "The current shape of the testing data is: (28000, 784)\n",
            "The new shape of the training data is: (42000, 28, 28, 1)\n",
            "The new shape of the testing data is: (28000, 28, 28, 1)\n"
          ],
          "name": "stdout"
        }
      ]
    },
    {
      "cell_type": "markdown",
      "metadata": {
        "id": "Z7ugsjh_t4L-",
        "colab_type": "text"
      },
      "source": [
        "## Preparing the model"
      ]
    },
    {
      "cell_type": "markdown",
      "metadata": {
        "id": "9E3KnGRCvQaO",
        "colab_type": "text"
      },
      "source": [
        "### Creating the interal testing data"
      ]
    },
    {
      "cell_type": "code",
      "metadata": {
        "id": "0JfcWqy6Ig6Q",
        "colab_type": "code",
        "colab": {}
      },
      "source": [
        "from sklearn.model_selection import train_test_split\n",
        "# This function splits the data into train a test.\n",
        "\n",
        "X_train, X_test, y_train, y_test = train_test_split(X, y, test_size=0.05, random_state=0)\n"
      ],
      "execution_count": 0,
      "outputs": []
    },
    {
      "cell_type": "code",
      "metadata": {
        "id": "YMQt1au-uHhQ",
        "colab_type": "code",
        "outputId": "467757da-2c30-4e7f-d6ae-b41ed2476b9e",
        "colab": {
          "base_uri": "https://localhost:8080/",
          "height": 164
        }
      },
      "source": [
        "# We have a train data, right ? Train data with labels. So we split this data into\n",
        "# interal train and internal test. \n",
        "# It is just to confimr that the model works.\n",
        "\n",
        "print('The new shape of the training data is:',X.shape)\n",
        "print('The new X_train of the training data is:',X_train.shape)\n",
        "print('The new X_test of the training data is:',X_test.shape)\n",
        "print('\\n')\n",
        "print('This is the number os labels',len(y))\n",
        "print('The new y_train of the training data is:',y_train.shape)\n",
        "print('The new y_test of the training data is:',y_test.shape)"
      ],
      "execution_count": 0,
      "outputs": [
        {
          "output_type": "stream",
          "text": [
            "The new shape of the training data is: (42000, 28, 28, 1)\n",
            "The new X_train of the training data is: (39900, 28, 28, 1)\n",
            "The new X_test of the training data is: (2100, 28, 28, 1)\n",
            "\n",
            "\n",
            "This is the number os labels 42000\n",
            "The new y_train of the training data is: (39900,)\n",
            "The new y_test of the training data is: (2100,)\n"
          ],
          "name": "stdout"
        }
      ]
    },
    {
      "cell_type": "markdown",
      "metadata": {
        "id": "ouljctD-vTW_",
        "colab_type": "text"
      },
      "source": [
        "### Data display"
      ]
    },
    {
      "cell_type": "code",
      "metadata": {
        "id": "jHptUopxvtn2",
        "colab_type": "code",
        "outputId": "1aba9362-c48e-490b-d2de-69907ff2055a",
        "colab": {
          "base_uri": "https://localhost:8080/",
          "height": 35
        }
      },
      "source": [
        "X_train.shape[0]"
      ],
      "execution_count": 0,
      "outputs": [
        {
          "output_type": "execute_result",
          "data": {
            "text/plain": [
              "39900"
            ]
          },
          "metadata": {
            "tags": []
          },
          "execution_count": 17
        }
      ]
    },
    {
      "cell_type": "code",
      "metadata": {
        "id": "9wvN6_qEoYj_",
        "colab_type": "code",
        "outputId": "4bf3e591-6b70-42b7-c2ec-bcaa12709fa2",
        "colab": {
          "base_uri": "https://localhost:8080/",
          "height": 696
        }
      },
      "source": [
        "import matplotlib.pyplot as plt\n",
        "\n",
        "X_train__ = X_train.reshape(X_train.shape[0], 28, 28)\n",
        "\n",
        "fig, axis = plt.subplots(4, 4, figsize=(10, 12))\n",
        "for i, ax in enumerate(axis.flat):\n",
        "    ax.imshow(X_train__[i], cmap='binary')\n",
        "    ax.set(title = f\"Real Number is {y_train[i]}\");"
      ],
      "execution_count": 0,
      "outputs": [
        {
          "output_type": "display_data",
          "data": {
            "image/png": "[encoded data removed]",
            "text/plain": [
              "<Figure size 720x864 with 16 Axes>"
            ]
          },
          "metadata": {
            "tags": []
          }
        }
      ]
    },
    {
      "cell_type": "markdown",
      "metadata": {
        "id": "9GbfZREXwKo-",
        "colab_type": "text"
      },
      "source": [
        "###One-Hot Encoding\n",
        "\n"
      ]
    },
    {
      "cell_type": "code",
      "metadata": {
        "id": "F8rofgSXoYkJ",
        "colab_type": "code",
        "outputId": "d1abb831-9aaa-4279-b11e-92564df67cff",
        "colab": {
          "base_uri": "https://localhost:8080/",
          "height": 35
        }
      },
      "source": [
        "from keras.utils.np_utils import to_categorical\n",
        "\n",
        "y_train = to_categorical(y_train)\n",
        "y_test = to_categorical(y_test)\n",
        "\n",
        "y = to_categorical(y)\n",
        "\n",
        "y_train.shape, y_test.shape\n",
        "\n"
      ],
      "execution_count": 0,
      "outputs": [
        {
          "output_type": "execute_result",
          "data": {
            "text/plain": [
              "((39900, 10), (2100, 10))"
            ]
          },
          "metadata": {
            "tags": []
          },
          "execution_count": 19
        }
      ]
    },
    {
      "cell_type": "markdown",
      "metadata": {
        "id": "MafRgye7w0na",
        "colab_type": "text"
      },
      "source": [
        "### Data Augmentation\n"
      ]
    },
    {
      "cell_type": "code",
      "metadata": {
        "id": "Av1A_ticwWgz",
        "colab_type": "code",
        "colab": {}
      },
      "source": [
        "from keras.preprocessing import image\n",
        "gen = image.ImageDataGenerator()\n",
        "batches = gen.flow(X_train, y_train, batch_size=64)\n"
      ],
      "execution_count": 0,
      "outputs": []
    },
    {
      "cell_type": "markdown",
      "metadata": {
        "id": "mAYIHE2V6X66",
        "colab_type": "text"
      },
      "source": [
        "###Normalization"
      ]
    },
    {
      "cell_type": "code",
      "metadata": {
        "id": "WJn6NMLfoYkP",
        "colab_type": "code",
        "colab": {}
      },
      "source": [
        "mean = np.mean(X_train)\n",
        "std = np.std(X_train)\n",
        "\n",
        "def standardize(x):\n",
        "    return (x-mean)/std"
      ],
      "execution_count": 0,
      "outputs": []
    },
    {
      "cell_type": "markdown",
      "metadata": {
        "id": "iwJ6ujvvw9Zm",
        "colab_type": "text"
      },
      "source": [
        "### Model Definition\n",
        "\n"
      ]
    },
    {
      "cell_type": "code",
      "metadata": {
        "id": "rFOvP-moCSco",
        "colab_type": "code",
        "colab": {}
      },
      "source": [
        "\n",
        "from keras.models import Sequential\n",
        "from keras.layers import Conv2D, Lambda, MaxPooling2D, Flatten\n",
        "from keras.layers import Dense, Dropout\n",
        "from keras.layers.normalization import BatchNormalization\n",
        "from keras.callbacks import TensorBoard\n",
        "import time\n",
        "\n",
        "NAME = \"MNIST-CNN-{}\".format(int(time.time()))\n",
        "\n",
        "\n",
        "def model():\n",
        "    tensorboard = TensorBoard(log_dir=\"logs/{}\".format(NAME))\n",
        "\n",
        "    model=Sequential()\n",
        "    model.add(Lambda(standardize,input_shape=(28,28,1)))\n",
        "    model.add(Conv2D(64,(3,3),activation=\"relu\"))\n",
        "    model.add(Conv2D(64,(3,3),activation=\"relu\"))\n",
        "    \n",
        "    model.add(MaxPooling2D(pool_size=(2,2)))\n",
        "    model.add(BatchNormalization())\n",
        "    model.add(Conv2D(128,(3,3),activation=\"relu\"))\n",
        "    model.add(Conv2D(128,(3,3),activation=\"relu\"))\n",
        "    \n",
        "    model.add(MaxPooling2D(pool_size=(2,2)))\n",
        "    model.add(BatchNormalization())\n",
        "    model.add(Conv2D(256,(3,3),activation=\"relu\"))\n",
        "    \n",
        "    model.add(MaxPooling2D(pool_size=(2,2)))\n",
        "    \n",
        "    model.add(Flatten())\n",
        "    model.add(BatchNormalization())\n",
        "    model.add(Dense(512,activation=\"relu\"))\n",
        "    model.add(Dense(10,activation=\"softmax\"))\n",
        "    \n",
        "    model.compile(loss=\"categorical_crossentropy\",optimizer=\"adam\",metrics=[\"accuracy\"])\n",
        "    #model.fit_generator(generator=batches,steps_per_epoch=batches.n,epochs=1)\n",
        "    model.fit(X_train, y_train, validation_data=(X_test, y_test), epochs=5,callbacks=[tensorboard])\n",
        "    return model"
      ],
      "execution_count": 0,
      "outputs": []
    },
    {
      "cell_type": "code",
      "metadata": {
        "id": "6rHVfxV3xG-Z",
        "colab_type": "code",
        "outputId": "824a7d19-8add-441b-93e7-35b3ac397b75",
        "colab": {
          "base_uri": "https://localhost:8080/",
          "height": 239
        }
      },
      "source": [
        "#model.summary()\n",
        "model = model()\n"
      ],
      "execution_count": 0,
      "outputs": [
        {
          "output_type": "stream",
          "text": [
            "Train on 39900 samples, validate on 2100 samples\n",
            "Epoch 1/5\n",
            "39900/39900 [==============================] - 12s 296us/step - loss: 0.1078 - acc: 0.9674 - val_loss: 0.0501 - val_acc: 0.9852\n",
            "Epoch 2/5\n",
            "39900/39900 [==============================] - 11s 283us/step - loss: 0.0550 - acc: 0.9833 - val_loss: 0.0482 - val_acc: 0.9833\n",
            "Epoch 3/5\n",
            "39900/39900 [==============================] - 11s 283us/step - loss: 0.0428 - acc: 0.9876 - val_loss: 0.0470 - val_acc: 0.9881\n",
            "Epoch 4/5\n",
            "39900/39900 [==============================] - 11s 281us/step - loss: 0.0357 - acc: 0.9896 - val_loss: 0.0230 - val_acc: 0.9910\n",
            "Epoch 5/5\n",
            "39900/39900 [==============================] - 11s 281us/step - loss: 0.0285 - acc: 0.9913 - val_loss: 0.0407 - val_acc: 0.9867\n"
          ],
          "name": "stdout"
        }
      ]
    },
    {
      "cell_type": "markdown",
      "metadata": {
        "id": "EK4e5eWLJ5cH",
        "colab_type": "text"
      },
      "source": [
        "## Adapt this data in order to use FastAI"
      ]
    },
    {
      "cell_type": "code",
      "metadata": {
        "id": "rdqXw-rXLQk3",
        "colab_type": "code",
        "colab": {}
      },
      "source": [
        "#X_for_images = train.drop(['label'],axis=1).values \n",
        "#test_x_for_images=test.values\n",
        "#y = train['label'].values \n",
        "\n",
        "XX = X_for_images.reshape(X.shape[0],28,28)\n",
        "xx = test_x_for_images.reshape(test_x_for_images.shape[0],28,28)\n",
        "\n"
      ],
      "execution_count": 0,
      "outputs": []
    },
    {
      "cell_type": "code",
      "metadata": {
        "id": "crPF2_siMHoG",
        "colab_type": "code",
        "colab": {}
      },
      "source": [
        "test=XX[0]\n",
        "\n",
        "test = XX[0].astype(np.uint8)"
      ],
      "execution_count": 0,
      "outputs": []
    },
    {
      "cell_type": "code",
      "metadata": {
        "id": "vD-Lin6uNNby",
        "colab_type": "code",
        "outputId": "c4e7c179-4bdd-4205-de82-766af4a54f13",
        "colab": {
          "base_uri": "https://localhost:8080/",
          "height": 35
        }
      },
      "source": [
        "xx.shape,XX.shape,len(y)"
      ],
      "execution_count": 0,
      "outputs": [
        {
          "output_type": "execute_result",
          "data": {
            "text/plain": [
              "((28000, 28, 28), (42000, 28, 28), 42000)"
            ]
          },
          "metadata": {
            "tags": []
          },
          "execution_count": 83
        }
      ]
    },
    {
      "cell_type": "code",
      "metadata": {
        "id": "F_TX49DgK3Nj",
        "colab_type": "code",
        "colab": {}
      },
      "source": [
        "from PIL import Image\n",
        "im = Image.fromarray(test)\n",
        "im.save(\"your_file.png\")"
      ],
      "execution_count": 0,
      "outputs": []
    },
    {
      "cell_type": "markdown",
      "metadata": {
        "id": "OUxUo-bgPHSz",
        "colab_type": "text"
      },
      "source": [
        "### Creating path"
      ]
    },
    {
      "cell_type": "code",
      "metadata": {
        "id": "jX22vY7gPg35",
        "colab_type": "code",
        "colab": {}
      },
      "source": [
        "from fastai.vision import *\n",
        "from fastai.metrics import error_rate"
      ],
      "execution_count": 0,
      "outputs": []
    },
    {
      "cell_type": "code",
      "metadata": {
        "id": "9UqHLkVJPKUL",
        "colab_type": "code",
        "colab": {}
      },
      "source": [
        "import os\n",
        "os.getcwd()\n",
        "#p = Path('/content/filesAudio')\n",
        "path = Path(os.getcwd())"
      ],
      "execution_count": 0,
      "outputs": []
    },
    {
      "cell_type": "markdown",
      "metadata": {
        "id": "HZEUszS3PJqk",
        "colab_type": "text"
      },
      "source": [
        "### Building the images and the panda (csv)\n",
        "\n",
        "\n",
        "\n"
      ]
    },
    {
      "cell_type": "code",
      "metadata": {
        "id": "eXNx6__qP2hR",
        "colab_type": "code",
        "colab": {}
      },
      "source": [
        "def np_to_png(array,filename):\n",
        "  test = array.astype(np.uint8)\n",
        "  im = Image.fromarray(test)\n",
        "  im.save(filename)\n",
        "\n",
        "\n"
      ],
      "execution_count": 0,
      "outputs": []
    },
    {
      "cell_type": "code",
      "metadata": {
        "id": "EQlhl_PUW6j6",
        "colab_type": "code",
        "outputId": "f381b756-3625-4250-ba64-55f3c66ccf1a",
        "colab": {
          "base_uri": "https://localhost:8080/",
          "height": 35
        }
      },
      "source": [
        "path = Path(os.getcwd())\n",
        "path"
      ],
      "execution_count": 0,
      "outputs": [
        {
          "output_type": "execute_result",
          "data": {
            "text/plain": [
              "PosixPath('/gdrive/My Drive/Colab Notebooks/Kaggle/MNIST')"
            ]
          },
          "metadata": {
            "tags": []
          },
          "execution_count": 131
        }
      ]
    },
    {
      "cell_type": "code",
      "metadata": {
        "id": "K5LoWCcvQoNJ",
        "colab_type": "code",
        "colab": {}
      },
      "source": [
        "data=[]\n",
        "data__=[]\n",
        "for i in range(len(y)):\n",
        "  \n",
        "  file='data/train/'+str(y[i])+'/'+str(i)+'.png'\n",
        "  filename=pathfile\n",
        "  np_to_png(XX[i],filename)\n",
        "  path_to_list='/train/'+str(y[i])+'/'+str(i)+'.png'\n",
        "  data.append([path_to_list,y[i]])\n",
        "df = pd.DataFrame(data, columns=[\"name\", \"label\"])"
      ],
      "execution_count": 0,
      "outputs": []
    },
    {
      "cell_type": "code",
      "metadata": {
        "id": "zEKnk0QfUJDh",
        "colab_type": "code",
        "colab": {}
      },
      "source": [
        "df = pd.DataFrame(data, columns=[\"name\", \"label\"])\n"
      ],
      "execution_count": 0,
      "outputs": []
    },
    {
      "cell_type": "code",
      "metadata": {
        "id": "DztKTRf1ecUp",
        "colab_type": "code",
        "colab": {}
      },
      "source": [
        "df.to_csv('data/labels.csv', encoding='utf-8',index=False)\n"
      ],
      "execution_count": 0,
      "outputs": []
    },
    {
      "cell_type": "code",
      "metadata": {
        "id": "lKgng1EKnvmB",
        "colab_type": "code",
        "outputId": "5df85b7f-a85a-4a50-fee4-8dd1656439b6",
        "colab": {
          "base_uri": "https://localhost:8080/",
          "height": 206
        }
      },
      "source": [
        "pd.read_csv(path2/'labels.csv').head()\n"
      ],
      "execution_count": 0,
      "outputs": [
        {
          "output_type": "execute_result",
          "data": {
            "text/html": [
              "<div>\n",
              "<style scoped>\n",
              "    .dataframe tbody tr th:only-of-type {\n",
              "        vertical-align: middle;\n",
              "    }\n",
              "\n",
              "    .dataframe tbody tr th {\n",
              "        vertical-align: top;\n",
              "    }\n",
              "\n",
              "    .dataframe thead th {\n",
              "        text-align: right;\n",
              "    }\n",
              "</style>\n",
              "<table border=\"1\" class=\"dataframe\">\n",
              "  <thead>\n",
              "    <tr style=\"text-align: right;\">\n",
              "      <th></th>\n",
              "      <th>name</th>\n",
              "      <th>label</th>\n",
              "    </tr>\n",
              "  </thead>\n",
              "  <tbody>\n",
              "    <tr>\n",
              "      <th>0</th>\n",
              "      <td>/train/1/0.png</td>\n",
              "      <td>1</td>\n",
              "    </tr>\n",
              "    <tr>\n",
              "      <th>1</th>\n",
              "      <td>/train/0/1.png</td>\n",
              "      <td>0</td>\n",
              "    </tr>\n",
              "    <tr>\n",
              "      <th>2</th>\n",
              "      <td>/train/1/2.png</td>\n",
              "      <td>1</td>\n",
              "    </tr>\n",
              "    <tr>\n",
              "      <th>3</th>\n",
              "      <td>/train/4/3.png</td>\n",
              "      <td>4</td>\n",
              "    </tr>\n",
              "    <tr>\n",
              "      <th>4</th>\n",
              "      <td>/train/0/4.png</td>\n",
              "      <td>0</td>\n",
              "    </tr>\n",
              "  </tbody>\n",
              "</table>\n",
              "</div>"
            ],
            "text/plain": [
              "             name  label\n",
              "0  /train/1/0.png      1\n",
              "1  /train/0/1.png      0\n",
              "2  /train/1/2.png      1\n",
              "3  /train/4/3.png      4\n",
              "4  /train/0/4.png      0"
            ]
          },
          "metadata": {
            "tags": []
          },
          "execution_count": 190
        }
      ]
    },
    {
      "cell_type": "code",
      "metadata": {
        "id": "BN0f2GWZgbsx",
        "colab_type": "code",
        "outputId": "0e0e3abe-cbed-469c-8f93-c7d991aecb58",
        "colab": {
          "base_uri": "https://localhost:8080/",
          "height": 164
        }
      },
      "source": [
        "path.ls()"
      ],
      "execution_count": 0,
      "outputs": [
        {
          "output_type": "execute_result",
          "data": {
            "text/plain": [
              "[PosixPath('/gdrive/My Drive/Colab Notebooks/Kaggle/MNIST/sample_submission.csv'),\n",
              " PosixPath('/gdrive/My Drive/Colab Notebooks/Kaggle/MNIST/train.csv'),\n",
              " PosixPath('/gdrive/My Drive/Colab Notebooks/Kaggle/MNIST/test.csv'),\n",
              " PosixPath('/gdrive/My Drive/Colab Notebooks/Kaggle/MNIST/digit-recognizer.zip'),\n",
              " PosixPath('/gdrive/My Drive/Colab Notebooks/Kaggle/MNIST/MNIST.ipynb'),\n",
              " PosixPath('/gdrive/My Drive/Colab Notebooks/Kaggle/MNIST/logs'),\n",
              " PosixPath('/gdrive/My Drive/Colab Notebooks/Kaggle/MNIST/data'),\n",
              " PosixPath('/gdrive/My Drive/Colab Notebooks/Kaggle/MNIST/labels.csv')]"
            ]
          },
          "metadata": {
            "tags": []
          },
          "execution_count": 167
        }
      ]
    },
    {
      "cell_type": "code",
      "metadata": {
        "id": "VQT5gbCOZibz",
        "colab_type": "code",
        "colab": {}
      },
      "source": [
        "for j in range(xx.shape[0]):\n",
        "#for i in range(10):\n",
        "  file='data/test/'+str(j)+'.png'\n",
        "  filename=path/file\n",
        "  np_to_png(xx[j],filename)\n",
        "  \n",
        "  "
      ],
      "execution_count": 0,
      "outputs": []
    },
    {
      "cell_type": "code",
      "metadata": {
        "id": "RlSGali6atcE",
        "colab_type": "code",
        "outputId": "5599c925-2db5-485a-d759-466440d2832b",
        "colab": {
          "base_uri": "https://localhost:8080/",
          "height": 72
        }
      },
      "source": [
        "(path2).ls()\n"
      ],
      "execution_count": 0,
      "outputs": [
        {
          "output_type": "execute_result",
          "data": {
            "text/plain": [
              "[PosixPath('/gdrive/My Drive/Colab Notebooks/Kaggle/MNIST/data/train'),\n",
              " PosixPath('/gdrive/My Drive/Colab Notebooks/Kaggle/MNIST/data/test'),\n",
              " PosixPath('/gdrive/My Drive/Colab Notebooks/Kaggle/MNIST/data/labels.csv')]"
            ]
          },
          "metadata": {
            "tags": []
          },
          "execution_count": 179
        }
      ]
    },
    {
      "cell_type": "markdown",
      "metadata": {
        "id": "mfDgvPa4dWwk",
        "colab_type": "text"
      },
      "source": [
        "### Create DataBuch"
      ]
    },
    {
      "cell_type": "code",
      "metadata": {
        "id": "pOiJrrIddlHS",
        "colab_type": "code",
        "outputId": "5b61a81e-d3d5-4b81-fa33-50b85e3f523e",
        "colab": {
          "base_uri": "https://localhost:8080/",
          "height": 35
        }
      },
      "source": [
        "path2=path/'data'\n",
        "path2"
      ],
      "execution_count": 0,
      "outputs": [
        {
          "output_type": "execute_result",
          "data": {
            "text/plain": [
              "PosixPath('/gdrive/My Drive/Colab Notebooks/Kaggle/MNIST/data')"
            ]
          },
          "metadata": {
            "tags": []
          },
          "execution_count": 271
        }
      ]
    },
    {
      "cell_type": "code",
      "metadata": {
        "id": "6bOoixFFdbvl",
        "colab_type": "code",
        "colab": {}
      },
      "source": [
        "#data = ImageDataBunch.from_csv(path2, size=28)\n",
        "tfms = get_transforms(do_flip=False)\n",
        "data = ImageDataBunch.from_csv(path=path2, \n",
        "                               csv_labels='labels.csv', \n",
        "                               test='test',\n",
        "                               size=28,\n",
        "                              ds_tfms=tfms)"
      ],
      "execution_count": 0,
      "outputs": []
    },
    {
      "cell_type": "code",
      "metadata": {
        "id": "3Llv1J7MoYkW",
        "colab_type": "code",
        "outputId": "e0f79640-4d60-40f2-ae80-4f447cba7d5f",
        "colab": {
          "base_uri": "https://localhost:8080/",
          "height": 441
        }
      },
      "source": [
        "data.show_batch(rows=3, figsize=(7,6))"
      ],
      "execution_count": 0,
      "outputs": [
        {
          "output_type": "display_data",
          "data": {
            "image/png": "[encoded data removed]",
            "text/plain": [
              "<Figure size 504x432 with 9 Axes>"
            ]
          },
          "metadata": {
            "tags": []
          }
        }
      ]
    },
    {
      "cell_type": "code",
      "metadata": {
        "id": "nYcLeHTDoYke",
        "colab_type": "code",
        "outputId": "08b804d1-9e82-43c5-f67f-694a721efe7f",
        "colab": {
          "base_uri": "https://localhost:8080/",
          "height": 54
        }
      },
      "source": [
        "print(data.classes)\n",
        "len(data.classes),data.c"
      ],
      "execution_count": 0,
      "outputs": [
        {
          "output_type": "stream",
          "text": [
            "[0, 1, 2, 3, 4, 5, 6, 7, 8, 9]\n"
          ],
          "name": "stdout"
        },
        {
          "output_type": "execute_result",
          "data": {
            "text/plain": [
              "(10, 10)"
            ]
          },
          "metadata": {
            "tags": []
          },
          "execution_count": 274
        }
      ]
    },
    {
      "cell_type": "markdown",
      "metadata": {
        "id": "UH4Aoc5NoYkn",
        "colab_type": "text"
      },
      "source": [
        "## Training: resnet34"
      ]
    },
    {
      "cell_type": "code",
      "metadata": {
        "id": "LfCKr6PioYkr",
        "colab_type": "code",
        "colab": {}
      },
      "source": [
        "learn = cnn_learner(data, models.resnet34, metrics=error_rate)"
      ],
      "execution_count": 0,
      "outputs": []
    },
    {
      "cell_type": "markdown",
      "metadata": {
        "id": "ODEmNv9Joz51",
        "colab_type": "text"
      },
      "source": [
        "###learn.model\n"
      ]
    },
    {
      "cell_type": "code",
      "metadata": {
        "id": "fkN9ngDRoYk6",
        "colab_type": "code",
        "outputId": "0e39989e-6eb3-4198-b9b8-401ddc3eb1d5",
        "colab": {
          "base_uri": "https://localhost:8080/",
          "height": 175
        }
      },
      "source": [
        "learn.fit_one_cycle(4)\n",
        "# 4 is the number of times we show the dataset to the model."
      ],
      "execution_count": 0,
      "outputs": [
        {
          "output_type": "display_data",
          "data": {
            "text/html": [
              "<table border=\"1\" class=\"dataframe\">\n",
              "  <thead>\n",
              "    <tr style=\"text-align: left;\">\n",
              "      <th>epoch</th>\n",
              "      <th>train_loss</th>\n",
              "      <th>valid_loss</th>\n",
              "      <th>error_rate</th>\n",
              "      <th>time</th>\n",
              "    </tr>\n",
              "  </thead>\n",
              "  <tbody>\n",
              "    <tr>\n",
              "      <td>0</td>\n",
              "      <td>0.643447</td>\n",
              "      <td>0.449308</td>\n",
              "      <td>0.142857</td>\n",
              "      <td>01:16</td>\n",
              "    </tr>\n",
              "    <tr>\n",
              "      <td>1</td>\n",
              "      <td>0.315786</td>\n",
              "      <td>0.215741</td>\n",
              "      <td>0.068214</td>\n",
              "      <td>01:15</td>\n",
              "    </tr>\n",
              "    <tr>\n",
              "      <td>2</td>\n",
              "      <td>0.209729</td>\n",
              "      <td>0.145310</td>\n",
              "      <td>0.045952</td>\n",
              "      <td>01:15</td>\n",
              "    </tr>\n",
              "    <tr>\n",
              "      <td>3</td>\n",
              "      <td>0.180734</td>\n",
              "      <td>0.136440</td>\n",
              "      <td>0.044286</td>\n",
              "      <td>01:15</td>\n",
              "    </tr>\n",
              "  </tbody>\n",
              "</table>"
            ],
            "text/plain": [
              "<IPython.core.display.HTML object>"
            ]
          },
          "metadata": {
            "tags": []
          }
        }
      ]
    },
    {
      "cell_type": "markdown",
      "metadata": {
        "id": "FQRjNknXB-QH",
        "colab_type": "text"
      },
      "source": [
        "After 4 epochs, model is a 95.6% accurate"
      ]
    },
    {
      "cell_type": "code",
      "metadata": {
        "id": "A1mQ5TbLoYlB",
        "colab_type": "code",
        "colab": {}
      },
      "source": [
        "learn.save('MNIST.stage-1')\n",
        "# This is for saving the weights of the model."
      ],
      "execution_count": 0,
      "outputs": []
    },
    {
      "cell_type": "markdown",
      "metadata": {
        "id": "mazfQC0ToYlH",
        "colab_type": "text"
      },
      "source": [
        "## Results"
      ]
    },
    {
      "cell_type": "code",
      "metadata": {
        "id": "dk0NV5nVoYlP",
        "colab_type": "code",
        "outputId": "14583d32-935a-4f40-c3ff-0fb36ad740db",
        "colab": {
          "base_uri": "https://localhost:8080/",
          "height": 35
        }
      },
      "source": [
        "interp = ClassificationInterpretation.from_learner(learn)\n",
        "# learn knows what is my data and what is my model\n",
        "# interp is a classification interpretation object\n",
        "\n",
        "losses,idxs = interp.top_losses()\n",
        "\n",
        "len(data.valid_ds)==len(losses)==len(idxs)"
      ],
      "execution_count": 0,
      "outputs": [
        {
          "output_type": "execute_result",
          "data": {
            "text/plain": [
              "True"
            ]
          },
          "metadata": {
            "tags": []
          },
          "execution_count": 199
        }
      ]
    },
    {
      "cell_type": "code",
      "metadata": {
        "id": "knIeFfdCoYlW",
        "colab_type": "code",
        "outputId": "5ba7a009-2e95-43ef-c5a8-0dec4f30e1a5",
        "colab": {
          "base_uri": "https://localhost:8080/",
          "height": 725
        }
      },
      "source": [
        "interp.plot_top_losses(9, figsize=(15,11))\n",
        "# loss function tells us how good is my prediction\n",
        "# a high loss means a big difference between prediction and reality\n",
        "# we are printing the worst predictions.\n",
        "# The tittle shows ( predictin / actual / loss / prob of actual class)"
      ],
      "execution_count": 0,
      "outputs": [
        {
          "output_type": "display_data",
          "data": {
            "image/png": "[encoded data removed]",
            "text/plain": [
              "<Figure size 1080x792 with 9 Axes>"
            ]
          },
          "metadata": {
            "tags": []
          }
        }
      ]
    },
    {
      "cell_type": "code",
      "metadata": {
        "id": "OKzdZ0IBoYlj",
        "colab_type": "code",
        "outputId": "75f52dd9-1466-4973-d249-9d4dcee917dc",
        "colab": {
          "base_uri": "https://localhost:8080/",
          "height": 743
        }
      },
      "source": [
        "interp.plot_confusion_matrix(figsize=(12,12), dpi=60)\n",
        "# List of many predictions Vs actuals.\n"
      ],
      "execution_count": 0,
      "outputs": [
        {
          "output_type": "display_data",
          "data": {
            "image/png": "[encoded data removed]",
            "text/plain": [
              "<Figure size 720x720 with 1 Axes>"
            ]
          },
          "metadata": {
            "tags": []
          }
        }
      ]
    },
    {
      "cell_type": "code",
      "metadata": {
        "id": "OyplDiQ4oYlq",
        "colab_type": "code",
        "colab": {}
      },
      "source": [
        "interp.most_confused(min_val=2)\n",
        "# Grabs from the confusion matrix, the tuple that gots more confused and the number of times\n",
        "#that got confusing."
      ],
      "execution_count": 0,
      "outputs": []
    },
    {
      "cell_type": "markdown",
      "metadata": {
        "id": "kduwqTgUoYl1",
        "colab_type": "text"
      },
      "source": [
        "## Unfreezing, fine-tuning, and learning rates"
      ]
    },
    {
      "cell_type": "markdown",
      "metadata": {
        "id": "NeSIbZiToYl4",
        "colab_type": "text"
      },
      "source": [
        "Since our model is working as we expect it to, we will *unfreeze* our model and train some more."
      ]
    },
    {
      "cell_type": "code",
      "metadata": {
        "id": "-6ux1EyioYl5",
        "colab_type": "code",
        "outputId": "831cd654-8ff5-4287-d2cb-0a05d718e528",
        "colab": {
          "base_uri": "https://localhost:8080/",
          "height": 55
        }
      },
      "source": [
        "learn.unfreeze()\n",
        "# This is to release ( or unfreeze) the whole model so the model can be \n",
        "# entirely trained\n",
        "'''\n",
        " The different layers represent differnt levels of semantic complexity. \n",
        " The deeper you go in the layer, the more complex things you can identify.\n",
        " in example, in the layer 2 I may be able to differenciate cats from planes, \n",
        " but in the layer 8 I may be able to differciate differnet breeds of cats / types of planes\n",
        " \n",
        "'''\n"
      ],
      "execution_count": 0,
      "outputs": [
        {
          "output_type": "execute_result",
          "data": {
            "text/plain": [
              "'\\n The different layers represent differnt levels of semantic complexity. \\n The deeper you go in the layer, the more complex things you can identify.\\n in example, in the layer 2 I may be able to differenciate cats from planes, \\n but in the layer 8 I may be able to differciate differnet breeds of cats / types of planes\\n \\n'"
            ]
          },
          "metadata": {
            "tags": []
          },
          "execution_count": 276
        }
      ]
    },
    {
      "cell_type": "code",
      "metadata": {
        "id": "Z-JsG_9RPeUp",
        "colab_type": "code",
        "colab": {}
      },
      "source": [
        "learn.load('MNIST.stage-4');"
      ],
      "execution_count": 0,
      "outputs": []
    },
    {
      "cell_type": "code",
      "metadata": {
        "id": "sSqamj37oYl8",
        "colab_type": "code",
        "colab": {}
      },
      "source": [
        "learn.fit_one_cycle(20)"
      ],
      "execution_count": 0,
      "outputs": []
    },
    {
      "cell_type": "markdown",
      "metadata": {
        "id": "SZLGWNE2KdgH",
        "colab_type": "text"
      },
      "source": [
        "Now the error is higher - after unfreeze - than before ( with just few layers)"
      ]
    },
    {
      "cell_type": "code",
      "metadata": {
        "id": "AKGTjr7MCAlZ",
        "colab_type": "code",
        "colab": {}
      },
      "source": [
        "learn.save('MNIST.stage-6')\n"
      ],
      "execution_count": 0,
      "outputs": []
    },
    {
      "cell_type": "code",
      "metadata": {
        "id": "cXK71WjwTEy3",
        "colab_type": "code",
        "outputId": "67f23201-2735-4f68-ac9a-4faf6247f9e5",
        "colab": {
          "base_uri": "https://localhost:8080/",
          "height": 35
        }
      },
      "source": [
        "learn.lr_find()"
      ],
      "execution_count": 0,
      "outputs": [
        {
          "output_type": "display_data",
          "data": {
            "text/html": [
              ""
            ],
            "text/plain": [
              "<IPython.core.display.HTML object>"
            ]
          },
          "metadata": {
            "tags": []
          }
        },
        {
          "output_type": "stream",
          "text": [
            "LR Finder is complete, type {learner_name}.recorder.plot() to see the graph.\n"
          ],
          "name": "stdout"
        }
      ]
    },
    {
      "cell_type": "code",
      "metadata": {
        "id": "F8SucZOKqizA",
        "colab_type": "code",
        "outputId": "21ce5728-91f8-4f60-9ecc-bef4d63a7de5",
        "colab": {
          "base_uri": "https://localhost:8080/",
          "height": 35
        }
      },
      "source": [
        "interp = ClassificationInterpretation.from_learner(learn)\n",
        "# learn knows what is my data and what is my model\n",
        "# interp is a classification interpretation object\n",
        "\n",
        "losses,idxs = interp.top_losses()\n",
        "\n",
        "len(data.valid_ds)==len(losses)==len(idxs)"
      ],
      "execution_count": 0,
      "outputs": [
        {
          "output_type": "execute_result",
          "data": {
            "text/plain": [
              "True"
            ]
          },
          "metadata": {
            "tags": []
          },
          "execution_count": 359
        }
      ]
    },
    {
      "cell_type": "code",
      "metadata": {
        "id": "I7b6YQSwqnzY",
        "colab_type": "code",
        "outputId": "7caee4c2-0d37-4a77-869d-6381cb171cd4",
        "colab": {
          "base_uri": "https://localhost:8080/",
          "height": 602
        }
      },
      "source": [
        "interp.plot_top_losses(9, figsize=(9,9))\n"
      ],
      "execution_count": 0,
      "outputs": [
        {
          "output_type": "display_data",
          "data": {
            "image/png": "[encoded data removed]",
            "text/plain": [
              "<Figure size 648x648 with 9 Axes>"
            ]
          },
          "metadata": {
            "tags": []
          }
        }
      ]
    },
    {
      "cell_type": "code",
      "metadata": {
        "id": "ODpec1Vzqqdf",
        "colab_type": "code",
        "outputId": "59157964-6f27-4453-822c-4be2e7918e14",
        "colab": {
          "base_uri": "https://localhost:8080/",
          "height": 743
        }
      },
      "source": [
        "interp.plot_confusion_matrix(figsize=(12,12), dpi=60)\n"
      ],
      "execution_count": 0,
      "outputs": [
        {
          "output_type": "display_data",
          "data": {
            "image/png": "[encoded data removed]",
            "text/plain": [
              "<Figure size 720x720 with 1 Axes>"
            ]
          },
          "metadata": {
            "tags": []
          }
        }
      ]
    },
    {
      "cell_type": "code",
      "metadata": {
        "id": "-rQUWPktC6jU",
        "colab_type": "code",
        "colab": {}
      },
      "source": [
        "preds, y = learn.get_preds(DatasetType.Test)"
      ],
      "execution_count": 0,
      "outputs": []
    },
    {
      "cell_type": "markdown",
      "metadata": {
        "id": "xRXkFlyVrjMs",
        "colab_type": "text"
      },
      "source": [
        "## Submitting the file"
      ]
    },
    {
      "cell_type": "code",
      "metadata": {
        "id": "N2GEli5YvpS9",
        "colab_type": "code",
        "colab": {}
      },
      "source": [
        "y = torch.argmax(preds, dim=1)\n"
      ],
      "execution_count": 0,
      "outputs": []
    },
    {
      "cell_type": "code",
      "metadata": {
        "id": "5-98RjgoImEr",
        "colab_type": "code",
        "colab": {}
      },
      "source": [
        "imageid=np.arange(1,len(y)+1)"
      ],
      "execution_count": 0,
      "outputs": []
    },
    {
      "cell_type": "code",
      "metadata": {
        "id": "rp8vGf4GIt27",
        "colab_type": "code",
        "outputId": "10b4cfd0-f4d0-4ff0-b29d-ad542d53e421",
        "colab": {
          "base_uri": "https://localhost:8080/",
          "height": 35
        }
      },
      "source": [
        "imageid"
      ],
      "execution_count": 0,
      "outputs": [
        {
          "output_type": "execute_result",
          "data": {
            "text/plain": [
              "array([    1,     2,     3,     4, ..., 27997, 27998, 27999, 28000])"
            ]
          },
          "metadata": {
            "tags": []
          },
          "execution_count": 345
        }
      ]
    },
    {
      "cell_type": "code",
      "metadata": {
        "id": "qUrRTO0DG7tx",
        "colab_type": "code",
        "colab": {}
      },
      "source": [
        "ds = pd.DataFrame(y)\n"
      ],
      "execution_count": 0,
      "outputs": []
    },
    {
      "cell_type": "code",
      "metadata": {
        "id": "kO94WlmIJQox",
        "colab_type": "code",
        "colab": {}
      },
      "source": [
        "ds['Image Id'] = imageid\n",
        "\n"
      ],
      "execution_count": 0,
      "outputs": []
    },
    {
      "cell_type": "code",
      "metadata": {
        "id": "pZZEyMCLJkqZ",
        "colab_type": "code",
        "outputId": "a0e8ac63-aa16-4613-fa9d-c3877e30a2a3",
        "colab": {
          "base_uri": "https://localhost:8080/",
          "height": 206
        }
      },
      "source": [
        "ds.columns = ['Label', 'ImageId']\n",
        "ds.head()"
      ],
      "execution_count": 0,
      "outputs": [
        {
          "output_type": "execute_result",
          "data": {
            "text/html": [
              "<div>\n",
              "<style scoped>\n",
              "    .dataframe tbody tr th:only-of-type {\n",
              "        vertical-align: middle;\n",
              "    }\n",
              "\n",
              "    .dataframe tbody tr th {\n",
              "        vertical-align: top;\n",
              "    }\n",
              "\n",
              "    .dataframe thead th {\n",
              "        text-align: right;\n",
              "    }\n",
              "</style>\n",
              "<table border=\"1\" class=\"dataframe\">\n",
              "  <thead>\n",
              "    <tr style=\"text-align: right;\">\n",
              "      <th></th>\n",
              "      <th>Label</th>\n",
              "      <th>ImageId</th>\n",
              "    </tr>\n",
              "  </thead>\n",
              "  <tbody>\n",
              "    <tr>\n",
              "      <th>0</th>\n",
              "      <td>2</td>\n",
              "      <td>1</td>\n",
              "    </tr>\n",
              "    <tr>\n",
              "      <th>1</th>\n",
              "      <td>0</td>\n",
              "      <td>2</td>\n",
              "    </tr>\n",
              "    <tr>\n",
              "      <th>2</th>\n",
              "      <td>9</td>\n",
              "      <td>3</td>\n",
              "    </tr>\n",
              "    <tr>\n",
              "      <th>3</th>\n",
              "      <td>0</td>\n",
              "      <td>4</td>\n",
              "    </tr>\n",
              "    <tr>\n",
              "      <th>4</th>\n",
              "      <td>3</td>\n",
              "      <td>5</td>\n",
              "    </tr>\n",
              "  </tbody>\n",
              "</table>\n",
              "</div>"
            ],
            "text/plain": [
              "   Label  ImageId\n",
              "0      2        1\n",
              "1      0        2\n",
              "2      9        3\n",
              "3      0        4\n",
              "4      3        5"
            ]
          },
          "metadata": {
            "tags": []
          },
          "execution_count": 348
        }
      ]
    },
    {
      "cell_type": "code",
      "metadata": {
        "id": "n4cK92rtKQRO",
        "colab_type": "code",
        "colab": {}
      },
      "source": [
        "cols=['ImageId','Label']\n",
        "ds1=ds[cols]"
      ],
      "execution_count": 0,
      "outputs": []
    },
    {
      "cell_type": "code",
      "metadata": {
        "id": "vtFsi9f3KVyG",
        "colab_type": "code",
        "colab": {}
      },
      "source": [
        "ds1.head()\n",
        "ds1.to_csv(\"submission.csv\", index=False)"
      ],
      "execution_count": 0,
      "outputs": []
    }
  ]
}