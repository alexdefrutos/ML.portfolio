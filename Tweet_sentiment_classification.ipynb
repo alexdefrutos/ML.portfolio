{
  "nbformat": 4,
  "nbformat_minor": 0,
  "metadata": {
    "colab": {
      "name": "Tweet_sentiment_classification.ipynb",
      "version": "0.3.2",
      "provenance": [],
      "collapsed_sections": [
        "u4anSeCCYfJ_",
        "6TwRneYUzVmK",
        "VZI9QwbTY5wd",
        "21NlxQ-bFpJb",
        "28B0LzktFlW_",
        "0fPHvI_HbzeC",
        "9zuNx1uYBbjJ",
        "XRq1LmGsjSJp",
        "NctAO4lBBen6"
      ],
      "toc_visible": true
    },
    "kernelspec": {
      "name": "python3",
      "display_name": "Python 3"
    },
    "accelerator": "GPU"
  },
  "cells": [
    {
      "cell_type": "markdown",
      "metadata": {
        "id": "gag66d8zpA3-",
        "colab_type": "text"
      },
      "source": [
        "#Tweet sentiment Classification"
      ]
    },
    {
      "cell_type": "markdown",
      "metadata": {
        "id": "ywn4FenDpHsp",
        "colab_type": "text"
      },
      "source": [
        "This notebook will be able to classify airline tweets as positive, neutral, or negative using a pre-trained word model - ULMFiT -  and a RNN. ULMFiT is a transfer learning method developed by Fast AI that can be applied to any task in NLP.\n",
        "\n",
        "\n",
        "Dataset:\n",
        "https://www.kaggle.com/crowdflower/twitter-airline-sentiment#Tweets.csv\n",
        "\n",
        "Libraries:\n",
        "\n",
        "*   https://docs.fast.ai/\n",
        "*   https://pytorch.org/\n",
        "\n",
        "The structure of this notebook is the following:\n",
        "\n",
        "1.   Data Analysis and data formatting:  I explain the process of extracting the information from the cvs file and the process of convert the data in to a ' trainable ' format\n",
        "2.   Training the language learner model: I create the model and train it - applying tranfer learning - in order to achieve a valid accuracy (  30% approx)\n",
        "3.   Training the classification learner: Using the trained language learne, I create a classification model which achive 80% accuracy in the classification task\n",
        "4.    Results analysis\n",
        "5.    Conclusions\n",
        "\n"
      ]
    },
    {
      "cell_type": "markdown",
      "metadata": {
        "id": "u4anSeCCYfJ_",
        "colab_type": "text"
      },
      "source": [
        "##0. Set-up: Mounting Gdrive , importing the Fast AI library and setting the working directory"
      ]
    },
    {
      "cell_type": "code",
      "metadata": {
        "id": "MB9KKsFCy9EZ",
        "colab_type": "code",
        "outputId": "2d9a3d3c-be07-47aa-de6f-1ac17486ab8b",
        "colab": {
          "base_uri": "https://localhost:8080/",
          "height": 54
        }
      },
      "source": [
        "# Ejecuta esta celda para activar tu cuenta de Google Drive.\n",
        "from google.colab import drive\n",
        "drive.mount('/content/gdrive')"
      ],
      "execution_count": 0,
      "outputs": [
        {
          "output_type": "stream",
          "text": [
            "Drive already mounted at /content/gdrive; to attempt to forcibly remount, call drive.mount(\"/content/gdrive\", force_remount=True).\n"
          ],
          "name": "stdout"
        }
      ]
    },
    {
      "cell_type": "code",
      "metadata": {
        "id": "vPxrBIsNzCuq",
        "colab_type": "code",
        "colab": {}
      },
      "source": [
        "from fastai.text import *"
      ],
      "execution_count": 0,
      "outputs": []
    },
    {
      "cell_type": "code",
      "metadata": {
        "id": "02RqE2GLzMrc",
        "colab_type": "code",
        "colab": {}
      },
      "source": [
        "%reload_ext autoreload\n",
        "%autoreload 2\n",
        "%matplotlib inline"
      ],
      "execution_count": 0,
      "outputs": []
    },
    {
      "cell_type": "code",
      "metadata": {
        "id": "Ruw2S1bKzOoq",
        "colab_type": "code",
        "colab": {}
      },
      "source": [
        "path=Path('/content/gdrive/My Drive/Colab Notebooks/Fellowship/twitter')"
      ],
      "execution_count": 0,
      "outputs": []
    },
    {
      "cell_type": "markdown",
      "metadata": {
        "id": "6TwRneYUzVmK",
        "colab_type": "text"
      },
      "source": [
        "## 1. Data analysis and data formatting"
      ]
    },
    {
      "cell_type": "markdown",
      "metadata": {
        "id": "RFGspqKyt7Uz",
        "colab_type": "text"
      },
      "source": [
        "About the data set:\n",
        "\n",
        "*   The dataset is called “Twitter US Airline Sentiment” which was downloaded from Kaggle as a csv file. \n",
        "*   The tweets has been classified as either “positive”, “neutral”, or “negative” and confidence score for the assigned label. For the negative classification, the reason is mentioned in the file\n",
        "\n",
        "\n",
        "\n",
        "\n"
      ]
    },
    {
      "cell_type": "markdown",
      "metadata": {
        "id": "VZI9QwbTY5wd",
        "colab_type": "text"
      },
      "source": [
        "### 1.1.- Loading the data"
      ]
    },
    {
      "cell_type": "markdown",
      "metadata": {
        "id": "5T91LuI6Yni4",
        "colab_type": "text"
      },
      "source": [
        "Load the file and extract the columns"
      ]
    },
    {
      "cell_type": "code",
      "metadata": {
        "id": "tQN1A4b3zTN8",
        "colab_type": "code",
        "colab": {}
      },
      "source": [
        "tweet = pd.read_csv(path/'Tweets.csv')\n"
      ],
      "execution_count": 0,
      "outputs": []
    },
    {
      "cell_type": "code",
      "metadata": {
        "id": "T1LfJ3EDzeYS",
        "colab_type": "code",
        "outputId": "b1922c9d-8643-4d57-90cb-0c66a61061fb",
        "colab": {
          "base_uri": "https://localhost:8080/",
          "height": 291
        }
      },
      "source": [
        "tweet.head(3) # The data set looks like this:"
      ],
      "execution_count": 0,
      "outputs": [
        {
          "output_type": "execute_result",
          "data": {
            "text/html": [
              "<div>\n",
              "<style scoped>\n",
              "    .dataframe tbody tr th:only-of-type {\n",
              "        vertical-align: middle;\n",
              "    }\n",
              "\n",
              "    .dataframe tbody tr th {\n",
              "        vertical-align: top;\n",
              "    }\n",
              "\n",
              "    .dataframe thead th {\n",
              "        text-align: right;\n",
              "    }\n",
              "</style>\n",
              "<table border=\"1\" class=\"dataframe\">\n",
              "  <thead>\n",
              "    <tr style=\"text-align: right;\">\n",
              "      <th></th>\n",
              "      <th>tweet_id</th>\n",
              "      <th>airline_sentiment</th>\n",
              "      <th>airline_sentiment_confidence</th>\n",
              "      <th>negativereason</th>\n",
              "      <th>negativereason_confidence</th>\n",
              "      <th>airline</th>\n",
              "      <th>airline_sentiment_gold</th>\n",
              "      <th>name</th>\n",
              "      <th>negativereason_gold</th>\n",
              "      <th>retweet_count</th>\n",
              "      <th>text</th>\n",
              "      <th>tweet_coord</th>\n",
              "      <th>tweet_created</th>\n",
              "      <th>tweet_location</th>\n",
              "      <th>user_timezone</th>\n",
              "    </tr>\n",
              "  </thead>\n",
              "  <tbody>\n",
              "    <tr>\n",
              "      <th>0</th>\n",
              "      <td>570306133677760513</td>\n",
              "      <td>neutral</td>\n",
              "      <td>1.0000</td>\n",
              "      <td>NaN</td>\n",
              "      <td>NaN</td>\n",
              "      <td>Virgin America</td>\n",
              "      <td>NaN</td>\n",
              "      <td>cairdin</td>\n",
              "      <td>NaN</td>\n",
              "      <td>0</td>\n",
              "      <td>@VirginAmerica What @dhepburn said.</td>\n",
              "      <td>NaN</td>\n",
              "      <td>2015-02-24 11:35:52 -0800</td>\n",
              "      <td>NaN</td>\n",
              "      <td>Eastern Time (US &amp; Canada)</td>\n",
              "    </tr>\n",
              "    <tr>\n",
              "      <th>1</th>\n",
              "      <td>570301130888122368</td>\n",
              "      <td>positive</td>\n",
              "      <td>0.3486</td>\n",
              "      <td>NaN</td>\n",
              "      <td>0.0</td>\n",
              "      <td>Virgin America</td>\n",
              "      <td>NaN</td>\n",
              "      <td>jnardino</td>\n",
              "      <td>NaN</td>\n",
              "      <td>0</td>\n",
              "      <td>@VirginAmerica plus you've added commercials t...</td>\n",
              "      <td>NaN</td>\n",
              "      <td>2015-02-24 11:15:59 -0800</td>\n",
              "      <td>NaN</td>\n",
              "      <td>Pacific Time (US &amp; Canada)</td>\n",
              "    </tr>\n",
              "    <tr>\n",
              "      <th>2</th>\n",
              "      <td>570301083672813571</td>\n",
              "      <td>neutral</td>\n",
              "      <td>0.6837</td>\n",
              "      <td>NaN</td>\n",
              "      <td>NaN</td>\n",
              "      <td>Virgin America</td>\n",
              "      <td>NaN</td>\n",
              "      <td>yvonnalynn</td>\n",
              "      <td>NaN</td>\n",
              "      <td>0</td>\n",
              "      <td>@VirginAmerica I didn't today... Must mean I n...</td>\n",
              "      <td>NaN</td>\n",
              "      <td>2015-02-24 11:15:48 -0800</td>\n",
              "      <td>Lets Play</td>\n",
              "      <td>Central Time (US &amp; Canada)</td>\n",
              "    </tr>\n",
              "  </tbody>\n",
              "</table>\n",
              "</div>"
            ],
            "text/plain": [
              "             tweet_id  ...               user_timezone\n",
              "0  570306133677760513  ...  Eastern Time (US & Canada)\n",
              "1  570301130888122368  ...  Pacific Time (US & Canada)\n",
              "2  570301083672813571  ...  Central Time (US & Canada)\n",
              "\n",
              "[3 rows x 15 columns]"
            ]
          },
          "metadata": {
            "tags": []
          },
          "execution_count": 179
        }
      ]
    },
    {
      "cell_type": "markdown",
      "metadata": {
        "id": "LQ9JSwsof-Mx",
        "colab_type": "text"
      },
      "source": [
        "The dataset is not perfectly balanced. From now, I will leave as it is but if the classification model doesn't perform as expected. I will balance it."
      ]
    },
    {
      "cell_type": "code",
      "metadata": {
        "id": "hONicK3zeRAJ",
        "colab_type": "code",
        "outputId": "dc660d77-94bc-4029-fa3b-45042537c01b",
        "colab": {
          "base_uri": "https://localhost:8080/",
          "height": 230
        }
      },
      "source": [
        "print('Number of tweets per sentiment:\\n',tweet.airline_sentiment.value_counts())\n",
        "print('\\n')\n",
        "print('Normalized number of tweets per sentiment:\\n',tweet.airline_sentiment.value_counts(normalize=True))"
      ],
      "execution_count": 0,
      "outputs": [
        {
          "output_type": "stream",
          "text": [
            "Number of tweets per sentiment:\n",
            " negative    9178\n",
            "neutral     3099\n",
            "positive    2363\n",
            "Name: airline_sentiment, dtype: int64\n",
            "\n",
            "\n",
            "Normalized number of tweets per sentiment:\n",
            " negative    0.626913\n",
            "neutral     0.211680\n",
            "positive    0.161407\n",
            "Name: airline_sentiment, dtype: float64\n"
          ],
          "name": "stdout"
        }
      ]
    },
    {
      "cell_type": "markdown",
      "metadata": {
        "id": "C7iXn0Bdf25c",
        "colab_type": "text"
      },
      "source": [
        "for this analysis, only the tweet and the sentiment classification matters, so I create a data_df panda with only these 3 columns."
      ]
    },
    {
      "cell_type": "code",
      "metadata": {
        "id": "NLj_9dL1zjqL",
        "colab_type": "code",
        "colab": {}
      },
      "source": [
        "data_df=tweet[['text','airline_sentiment','airline_sentiment_confidence']] "
      ],
      "execution_count": 0,
      "outputs": []
    },
    {
      "cell_type": "code",
      "metadata": {
        "id": "xliIqa1g2ois",
        "colab_type": "code",
        "outputId": "3db4469d-40bd-4aae-de37-ddce2c5c9cfe",
        "colab": {
          "base_uri": "https://localhost:8080/",
          "height": 197
        }
      },
      "source": [
        "data_df.head()"
      ],
      "execution_count": 0,
      "outputs": [
        {
          "output_type": "execute_result",
          "data": {
            "text/html": [
              "<div>\n",
              "<style scoped>\n",
              "    .dataframe tbody tr th:only-of-type {\n",
              "        vertical-align: middle;\n",
              "    }\n",
              "\n",
              "    .dataframe tbody tr th {\n",
              "        vertical-align: top;\n",
              "    }\n",
              "\n",
              "    .dataframe thead th {\n",
              "        text-align: right;\n",
              "    }\n",
              "</style>\n",
              "<table border=\"1\" class=\"dataframe\">\n",
              "  <thead>\n",
              "    <tr style=\"text-align: right;\">\n",
              "      <th></th>\n",
              "      <th>text</th>\n",
              "      <th>airline_sentiment</th>\n",
              "      <th>airline_sentiment_confidence</th>\n",
              "    </tr>\n",
              "  </thead>\n",
              "  <tbody>\n",
              "    <tr>\n",
              "      <th>0</th>\n",
              "      <td>@VirginAmerica What @dhepburn said.</td>\n",
              "      <td>neutral</td>\n",
              "      <td>1.0000</td>\n",
              "    </tr>\n",
              "    <tr>\n",
              "      <th>1</th>\n",
              "      <td>@VirginAmerica plus you've added commercials t...</td>\n",
              "      <td>positive</td>\n",
              "      <td>0.3486</td>\n",
              "    </tr>\n",
              "    <tr>\n",
              "      <th>2</th>\n",
              "      <td>@VirginAmerica I didn't today... Must mean I n...</td>\n",
              "      <td>neutral</td>\n",
              "      <td>0.6837</td>\n",
              "    </tr>\n",
              "    <tr>\n",
              "      <th>3</th>\n",
              "      <td>@VirginAmerica it's really aggressive to blast...</td>\n",
              "      <td>negative</td>\n",
              "      <td>1.0000</td>\n",
              "    </tr>\n",
              "    <tr>\n",
              "      <th>4</th>\n",
              "      <td>@VirginAmerica and it's a really big bad thing...</td>\n",
              "      <td>negative</td>\n",
              "      <td>1.0000</td>\n",
              "    </tr>\n",
              "  </tbody>\n",
              "</table>\n",
              "</div>"
            ],
            "text/plain": [
              "                                                text  ... airline_sentiment_confidence\n",
              "0                @VirginAmerica What @dhepburn said.  ...                       1.0000\n",
              "1  @VirginAmerica plus you've added commercials t...  ...                       0.3486\n",
              "2  @VirginAmerica I didn't today... Must mean I n...  ...                       0.6837\n",
              "3  @VirginAmerica it's really aggressive to blast...  ...                       1.0000\n",
              "4  @VirginAmerica and it's a really big bad thing...  ...                       1.0000\n",
              "\n",
              "[5 rows x 3 columns]"
            ]
          },
          "metadata": {
            "tags": []
          },
          "execution_count": 182
        }
      ]
    },
    {
      "cell_type": "code",
      "metadata": {
        "id": "gPuWCDQS1TGi",
        "colab_type": "code",
        "colab": {}
      },
      "source": [
        "data_df.to_csv(path/'texts.csv',index=False) # I save the panda."
      ],
      "execution_count": 0,
      "outputs": []
    },
    {
      "cell_type": "code",
      "metadata": {
        "id": "gKj03MaJ3hPl",
        "colab_type": "code",
        "colab": {}
      },
      "source": [
        "data_df=pd.read_csv(path/\"texts.csv\") # I load the panda"
      ],
      "execution_count": 0,
      "outputs": []
    },
    {
      "cell_type": "markdown",
      "metadata": {
        "id": "CfDCtsDbZJPh",
        "colab_type": "text"
      },
      "source": [
        "### 1.2.- Formatting the data for the model"
      ]
    },
    {
      "cell_type": "markdown",
      "metadata": {
        "id": "-Gteo9zJ0sUQ",
        "colab_type": "text"
      },
      "source": [
        "In order to train a model using the data we need to convert it in a format the the model can understand and train and it is done using the TextList class.What this class does is:\n",
        "\n",
        "\n",
        "*   Tokenization: Creates a separate unit (i.e. a “token”) for each separate part of a word and save each of these 'tokens' in a dictionary ( aka vocabulary)\n",
        "*   Numericalization: Converts each token in a integrer so the model can process them."
      ]
    },
    {
      "cell_type": "code",
      "metadata": {
        "id": "Q3nwnd0e2ee4",
        "colab_type": "code",
        "colab": {}
      },
      "source": [
        "bs=256"
      ],
      "execution_count": 0,
      "outputs": []
    },
    {
      "cell_type": "code",
      "metadata": {
        "id": "Ipw51nwt3pLR",
        "colab_type": "code",
        "colab": {}
      },
      "source": [
        "data_lm = (TextList.from_csv(path, 'texts.csv', cols='text')  # Where is the data, which file and column.\n",
        "            .split_by_rand_pct(0.2) # We split the dataset between train and validation ( 20% )\n",
        "            .label_for_lm()        # Special command for NLP learner   \n",
        "            .databunch(bs=bs))     # batch size\n",
        "data_lm.save('data_lm.pkl')"
      ],
      "execution_count": 0,
      "outputs": []
    },
    {
      "cell_type": "code",
      "metadata": {
        "id": "rbUvvwGt-cUW",
        "colab_type": "code",
        "colab": {}
      },
      "source": [
        "data_lm = load_data(path, 'data_lm.pkl', bs=bs)"
      ],
      "execution_count": 0,
      "outputs": []
    },
    {
      "cell_type": "code",
      "metadata": {
        "id": "aCzvWq9j3Zhr",
        "colab_type": "code",
        "outputId": "598a6e49-4fd5-45fe-87e3-aebc867df186",
        "colab": {
          "base_uri": "https://localhost:8080/",
          "height": 194
        }
      },
      "source": [
        "# Here I am plotting the different steps carried out by the Text list class.\n",
        "print('Original Text:')\n",
        "print(data_df.iloc[1,1])\n",
        "print('\\n')\n",
        "print('Tokenized text:')\n",
        "print(data_lm.train_ds[0][0])\n",
        "print('\\n')\n",
        "print('Numerical text:')\n",
        "print(data_lm.train_ds[0][0].data[:10])"
      ],
      "execution_count": 0,
      "outputs": [
        {
          "output_type": "stream",
          "text": [
            "Original Text:\n",
            "@VirginAmerica plus you've added commercials to the experience... tacky.\n",
            "\n",
            "\n",
            "Tokenized text:\n",
            "xxbos @virginamerica plus you 've added commercials to the experience ... xxunk .\n",
            "\n",
            "\n",
            "Numerical text:\n",
            "[   2  105  599   17  114 1135 2787   10   12  221]\n"
          ],
          "name": "stdout"
        }
      ]
    },
    {
      "cell_type": "code",
      "metadata": {
        "id": "zyoAEoq42_Sx",
        "colab_type": "code",
        "outputId": "83f85da5-d26a-46ff-8a95-f82b05a99c7f",
        "colab": {
          "base_uri": "https://localhost:8080/",
          "height": 372
        }
      },
      "source": [
        "# These are the 20 most frequent token that appear in the dictionary.\n",
        "# All the tokens starting with xx ( i.e. xxunk,xxpad,...) are special tokens which describe the format of the text\n",
        "\n",
        "data_lm.vocab.itos[:20]"
      ],
      "execution_count": 0,
      "outputs": [
        {
          "output_type": "execute_result",
          "data": {
            "text/plain": [
              "['xxunk',\n",
              " 'xxpad',\n",
              " 'xxbos',\n",
              " 'xxeos',\n",
              " 'xxfld',\n",
              " 'xxmaj',\n",
              " 'xxup',\n",
              " 'xxrep',\n",
              " 'xxwrep',\n",
              " '.',\n",
              " 'to',\n",
              " 'i',\n",
              " 'the',\n",
              " '!',\n",
              " 'a',\n",
              " '?',\n",
              " '/',\n",
              " 'you',\n",
              " ',',\n",
              " 'for']"
            ]
          },
          "metadata": {
            "tags": []
          },
          "execution_count": 8
        }
      ]
    },
    {
      "cell_type": "markdown",
      "metadata": {
        "id": "DHGqRRJ8pRgy",
        "colab_type": "text"
      },
      "source": [
        "These are the most frequent words ( without special characters and which length is >4  )"
      ]
    },
    {
      "cell_type": "code",
      "metadata": {
        "id": "hA-2ADGbh72k",
        "colab_type": "code",
        "outputId": "5d4a92aa-67af-4719-a8c0-1042ab67d62d",
        "colab": {
          "base_uri": "https://localhost:8080/",
          "height": 372
        }
      },
      "source": [
        "voc=[]\n",
        "voc = [item for item in data_lm.vocab.itos if ('xx' not in item) and (len(item)>4)]\n",
        "voc[:20]"
      ],
      "execution_count": 0,
      "outputs": [
        {
          "output_type": "execute_result",
          "data": {
            "text/plain": [
              "['flight',\n",
              " '@united',\n",
              " '@usairways',\n",
              " '@americanair',\n",
              " '@southwestair',\n",
              " '@jetblue',\n",
              " 'cancelled',\n",
              " 'thanks',\n",
              " 'service',\n",
              " 'customer',\n",
              " 'hours',\n",
              " 'flights',\n",
              " 'there',\n",
              " 'plane',\n",
              " 'thank',\n",
              " 'would',\n",
              " 'still',\n",
              " 'please',\n",
              " 'delayed',\n",
              " 'flightled']"
            ]
          },
          "metadata": {
            "tags": []
          },
          "execution_count": 25
        }
      ]
    },
    {
      "cell_type": "markdown",
      "metadata": {
        "id": "21NlxQ-bFpJb",
        "colab_type": "text"
      },
      "source": [
        "## 2. Training the language model using AWD_LSTM."
      ]
    },
    {
      "cell_type": "markdown",
      "metadata": {
        "id": "YU6_lXFN6-8v",
        "colab_type": "text"
      },
      "source": [
        "Now we can create the learner. In this case we are using the 'language_model_learner' which creates  a RNN (recurrent neural network)."
      ]
    },
    {
      "cell_type": "code",
      "metadata": {
        "id": "s5_rmWHt3D7t",
        "colab_type": "code",
        "colab": {}
      },
      "source": [
        "learn = language_model_learner(data_lm, AWD_LSTM, drop_mult=0.3)"
      ],
      "execution_count": 0,
      "outputs": []
    },
    {
      "cell_type": "code",
      "metadata": {
        "id": "XbqCx-3f_oZT",
        "colab_type": "code",
        "outputId": "cfada160-d3ea-4e6f-caca-c209f3f8056b",
        "colab": {
          "base_uri": "https://localhost:8080/",
          "height": 443
        }
      },
      "source": [
        "learn.summary() #This is the architecture of the language model learner"
      ],
      "execution_count": 0,
      "outputs": [
        {
          "output_type": "execute_result",
          "data": {
            "text/plain": [
              "SequentialRNN\n",
              "======================================================================\n",
              "Layer (type)         Output Shape         Param #    Trainable \n",
              "======================================================================\n",
              "RNNDropout           [70, 400]            0          False     \n",
              "______________________________________________________________________\n",
              "RNNDropout           [70, 1152]           0          False     \n",
              "______________________________________________________________________\n",
              "RNNDropout           [70, 1152]           0          False     \n",
              "______________________________________________________________________\n",
              "Linear               [70, 4080]           1,636,080  True      \n",
              "______________________________________________________________________\n",
              "RNNDropout           [70, 400]            0          False     \n",
              "______________________________________________________________________\n",
              "\n",
              "Total params: 1,636,080\n",
              "Total trainable params: 1,636,080\n",
              "Total non-trainable params: 0\n",
              "Optimized with 'torch.optim.adam.Adam', betas=(0.9, 0.99)\n",
              "Using true weight decay as discussed in https://www.fast.ai/2018/07/02/adam-weight-decay/ \n",
              "Loss function : FlattenedLoss\n",
              "======================================================================\n",
              "Callbacks functions applied \n",
              "    RNNTrainer"
            ]
          },
          "metadata": {
            "tags": []
          },
          "execution_count": 40
        }
      ]
    },
    {
      "cell_type": "markdown",
      "metadata": {
        "id": "qUidBL2wMggs",
        "colab_type": "text"
      },
      "source": [
        "In order to train the model I am going to follow this process:\n",
        "\n",
        "\n",
        "\n",
        "*   Identify the best initial learning rate using lr_find(). It plots lr vs loss relationship for a learner so I can choose the best starting lr\n",
        "*   Plot the learning rate.\n",
        "*   Train the model using the fit_one_cycle based on Leslie Smith's 1cycle policy.\n",
        "*   Save the model \n"
      ]
    },
    {
      "cell_type": "markdown",
      "metadata": {
        "id": "o0CQgMMkOdyS",
        "colab_type": "text"
      },
      "source": [
        "### 1 round: 1 epoch & lr = 1e-2"
      ]
    },
    {
      "cell_type": "code",
      "metadata": {
        "id": "8_Bwm8T93Rck",
        "colab_type": "code",
        "outputId": "c79dfec1-b339-4bb8-98c2-f2af121cb2a8",
        "colab": {
          "base_uri": "https://localhost:8080/",
          "height": 34
        }
      },
      "source": [
        "learn.lr_find()\n"
      ],
      "execution_count": 0,
      "outputs": [
        {
          "output_type": "display_data",
          "data": {
            "text/html": [
              ""
            ],
            "text/plain": [
              "<IPython.core.display.HTML object>"
            ]
          },
          "metadata": {
            "tags": []
          }
        },
        {
          "output_type": "stream",
          "text": [
            "LR Finder is complete, type {learner_name}.recorder.plot() to see the graph.\n"
          ],
          "name": "stdout"
        }
      ]
    },
    {
      "cell_type": "code",
      "metadata": {
        "id": "3Ezr7xAi3zRW",
        "colab_type": "code",
        "outputId": "508016b9-c927-469a-810e-f7e11433b60d",
        "colab": {
          "base_uri": "https://localhost:8080/",
          "height": 282
        }
      },
      "source": [
        "learn.recorder.plot(skip_end=15)"
      ],
      "execution_count": 0,
      "outputs": [
        {
          "output_type": "display_data",
          "data": {
            "image/png": "[encoded data removed]",
            "text/plain": [
              "<Figure size 432x288 with 1 Axes>"
            ]
          },
          "metadata": {
            "tags": []
          }
        }
      ]
    },
    {
      "cell_type": "code",
      "metadata": {
        "id": "61rR2BDI7DNv",
        "colab_type": "code",
        "outputId": "22379fa6-380c-4c9c-a105-75b57227a916",
        "colab": {
          "base_uri": "https://localhost:8080/",
          "height": 77
        }
      },
      "source": [
        "learn.fit_one_cycle(1, 1e-2)"
      ],
      "execution_count": 0,
      "outputs": [
        {
          "output_type": "display_data",
          "data": {
            "text/html": [
              "<table border=\"1\" class=\"dataframe\">\n",
              "  <thead>\n",
              "    <tr style=\"text-align: left;\">\n",
              "      <th>epoch</th>\n",
              "      <th>train_loss</th>\n",
              "      <th>valid_loss</th>\n",
              "      <th>accuracy</th>\n",
              "      <th>time</th>\n",
              "    </tr>\n",
              "  </thead>\n",
              "  <tbody>\n",
              "    <tr>\n",
              "      <td>0</td>\n",
              "      <td>5.553205</td>\n",
              "      <td>4.873003</td>\n",
              "      <td>0.200056</td>\n",
              "      <td>00:18</td>\n",
              "    </tr>\n",
              "  </tbody>\n",
              "</table>"
            ],
            "text/plain": [
              "<IPython.core.display.HTML object>"
            ]
          },
          "metadata": {
            "tags": []
          }
        }
      ]
    },
    {
      "cell_type": "code",
      "metadata": {
        "id": "SeI1wqqd7Tub",
        "colab_type": "code",
        "colab": {}
      },
      "source": [
        "learn.save('tweet_1_cycle')"
      ],
      "execution_count": 0,
      "outputs": []
    },
    {
      "cell_type": "code",
      "metadata": {
        "id": "KG0KXu2q90AS",
        "colab_type": "code",
        "colab": {}
      },
      "source": [
        "learn.load('tweet_1_cycle');"
      ],
      "execution_count": 0,
      "outputs": []
    },
    {
      "cell_type": "markdown",
      "metadata": {
        "id": "_rDmnCaFOglT",
        "colab_type": "text"
      },
      "source": [
        "### 2 round: 10 epoch and lr: 1e-3"
      ]
    },
    {
      "cell_type": "code",
      "metadata": {
        "id": "pijWsttY93l5",
        "colab_type": "code",
        "outputId": "f7584ca6-05e5-48c3-f462-4b0e5a1771d8",
        "colab": {
          "base_uri": "https://localhost:8080/",
          "height": 347
        }
      },
      "source": [
        "learn.fit_one_cycle(10, 1e-3)\n",
        "learn.save('tweet_10_cycle')"
      ],
      "execution_count": 0,
      "outputs": [
        {
          "output_type": "display_data",
          "data": {
            "text/html": [
              "<table border=\"1\" class=\"dataframe\">\n",
              "  <thead>\n",
              "    <tr style=\"text-align: left;\">\n",
              "      <th>epoch</th>\n",
              "      <th>train_loss</th>\n",
              "      <th>valid_loss</th>\n",
              "      <th>accuracy</th>\n",
              "      <th>time</th>\n",
              "    </tr>\n",
              "  </thead>\n",
              "  <tbody>\n",
              "    <tr>\n",
              "      <td>0</td>\n",
              "      <td>4.934788</td>\n",
              "      <td>4.852840</td>\n",
              "      <td>0.200474</td>\n",
              "      <td>00:18</td>\n",
              "    </tr>\n",
              "    <tr>\n",
              "      <td>1</td>\n",
              "      <td>4.904218</td>\n",
              "      <td>4.766737</td>\n",
              "      <td>0.203850</td>\n",
              "      <td>00:18</td>\n",
              "    </tr>\n",
              "    <tr>\n",
              "      <td>2</td>\n",
              "      <td>4.839352</td>\n",
              "      <td>4.626996</td>\n",
              "      <td>0.209780</td>\n",
              "      <td>00:17</td>\n",
              "    </tr>\n",
              "    <tr>\n",
              "      <td>3</td>\n",
              "      <td>4.755868</td>\n",
              "      <td>4.499255</td>\n",
              "      <td>0.214802</td>\n",
              "      <td>00:18</td>\n",
              "    </tr>\n",
              "    <tr>\n",
              "      <td>4</td>\n",
              "      <td>4.664332</td>\n",
              "      <td>4.399631</td>\n",
              "      <td>0.220773</td>\n",
              "      <td>00:17</td>\n",
              "    </tr>\n",
              "    <tr>\n",
              "      <td>5</td>\n",
              "      <td>4.579199</td>\n",
              "      <td>4.330450</td>\n",
              "      <td>0.223898</td>\n",
              "      <td>00:18</td>\n",
              "    </tr>\n",
              "    <tr>\n",
              "      <td>6</td>\n",
              "      <td>4.508368</td>\n",
              "      <td>4.282147</td>\n",
              "      <td>0.225837</td>\n",
              "      <td>00:17</td>\n",
              "    </tr>\n",
              "    <tr>\n",
              "      <td>7</td>\n",
              "      <td>4.445081</td>\n",
              "      <td>4.256401</td>\n",
              "      <td>0.226018</td>\n",
              "      <td>00:18</td>\n",
              "    </tr>\n",
              "    <tr>\n",
              "      <td>8</td>\n",
              "      <td>4.395432</td>\n",
              "      <td>4.244517</td>\n",
              "      <td>0.226702</td>\n",
              "      <td>00:18</td>\n",
              "    </tr>\n",
              "    <tr>\n",
              "      <td>9</td>\n",
              "      <td>4.358726</td>\n",
              "      <td>4.244060</td>\n",
              "      <td>0.226158</td>\n",
              "      <td>00:18</td>\n",
              "    </tr>\n",
              "  </tbody>\n",
              "</table>"
            ],
            "text/plain": [
              "<IPython.core.display.HTML object>"
            ]
          },
          "metadata": {
            "tags": []
          }
        }
      ]
    },
    {
      "cell_type": "code",
      "metadata": {
        "id": "eT-ijYwr9_vI",
        "colab_type": "code",
        "outputId": "6349b056-42ed-4169-bcec-2ee54e1848ec",
        "colab": {
          "base_uri": "https://localhost:8080/",
          "height": 300
        }
      },
      "source": [
        "learn.lr_find()\n",
        "learn.recorder.plot(skip_end=15)"
      ],
      "execution_count": 0,
      "outputs": [
        {
          "output_type": "display_data",
          "data": {
            "text/html": [
              ""
            ],
            "text/plain": [
              "<IPython.core.display.HTML object>"
            ]
          },
          "metadata": {
            "tags": []
          }
        },
        {
          "output_type": "stream",
          "text": [
            "LR Finder is complete, type {learner_name}.recorder.plot() to see the graph.\n"
          ],
          "name": "stdout"
        },
        {
          "output_type": "display_data",
          "data": {
            "image/png": "[encoded data removed]",
            "text/plain": [
              "<Figure size 432x288 with 1 Axes>"
            ]
          },
          "metadata": {
            "tags": []
          }
        }
      ]
    },
    {
      "cell_type": "markdown",
      "metadata": {
        "id": "E3CKvRB8Ov8M",
        "colab_type": "text"
      },
      "source": [
        "### round 3: Unfreeze the model. 10 epoch & lr: 1e-3"
      ]
    },
    {
      "cell_type": "markdown",
      "metadata": {
        "id": "Jp-f7oBqO2bP",
        "colab_type": "text"
      },
      "source": [
        "So far I have been only training the latest layers of the model. After calling learn.unfreeze( ) I am allowing the model to train the whole architecture."
      ]
    },
    {
      "cell_type": "code",
      "metadata": {
        "id": "ArvZ0hPx_zKk",
        "colab_type": "code",
        "outputId": "bae31885-7628-4fcd-a3d8-5ccbcacc468e",
        "colab": {
          "base_uri": "https://localhost:8080/",
          "height": 347
        }
      },
      "source": [
        "learn.unfreeze()\n",
        "learn.fit_one_cycle(10, 1e-3)\n",
        "learn.save('tweet_10_cycl-unfreeze')\n"
      ],
      "execution_count": 0,
      "outputs": [
        {
          "output_type": "display_data",
          "data": {
            "text/html": [
              "<table border=\"1\" class=\"dataframe\">\n",
              "  <thead>\n",
              "    <tr style=\"text-align: left;\">\n",
              "      <th>epoch</th>\n",
              "      <th>train_loss</th>\n",
              "      <th>valid_loss</th>\n",
              "      <th>accuracy</th>\n",
              "      <th>time</th>\n",
              "    </tr>\n",
              "  </thead>\n",
              "  <tbody>\n",
              "    <tr>\n",
              "      <td>0</td>\n",
              "      <td>4.119964</td>\n",
              "      <td>3.962147</td>\n",
              "      <td>0.254297</td>\n",
              "      <td>00:24</td>\n",
              "    </tr>\n",
              "    <tr>\n",
              "      <td>1</td>\n",
              "      <td>3.979422</td>\n",
              "      <td>3.820221</td>\n",
              "      <td>0.272224</td>\n",
              "      <td>00:24</td>\n",
              "    </tr>\n",
              "    <tr>\n",
              "      <td>2</td>\n",
              "      <td>3.864680</td>\n",
              "      <td>3.731414</td>\n",
              "      <td>0.284807</td>\n",
              "      <td>00:24</td>\n",
              "    </tr>\n",
              "    <tr>\n",
              "      <td>3</td>\n",
              "      <td>3.750980</td>\n",
              "      <td>3.682447</td>\n",
              "      <td>0.289955</td>\n",
              "      <td>00:24</td>\n",
              "    </tr>\n",
              "    <tr>\n",
              "      <td>4</td>\n",
              "      <td>3.641488</td>\n",
              "      <td>3.656018</td>\n",
              "      <td>0.293150</td>\n",
              "      <td>00:24</td>\n",
              "    </tr>\n",
              "    <tr>\n",
              "      <td>5</td>\n",
              "      <td>3.530940</td>\n",
              "      <td>3.645060</td>\n",
              "      <td>0.294280</td>\n",
              "      <td>00:24</td>\n",
              "    </tr>\n",
              "    <tr>\n",
              "      <td>6</td>\n",
              "      <td>3.462245</td>\n",
              "      <td>3.666821</td>\n",
              "      <td>0.287779</td>\n",
              "      <td>00:24</td>\n",
              "    </tr>\n",
              "    <tr>\n",
              "      <td>7</td>\n",
              "      <td>3.369169</td>\n",
              "      <td>3.662431</td>\n",
              "      <td>0.293973</td>\n",
              "      <td>00:24</td>\n",
              "    </tr>\n",
              "    <tr>\n",
              "      <td>8</td>\n",
              "      <td>3.289595</td>\n",
              "      <td>3.665033</td>\n",
              "      <td>0.293025</td>\n",
              "      <td>00:24</td>\n",
              "    </tr>\n",
              "    <tr>\n",
              "      <td>9</td>\n",
              "      <td>3.228258</td>\n",
              "      <td>3.666741</td>\n",
              "      <td>0.293094</td>\n",
              "      <td>00:24</td>\n",
              "    </tr>\n",
              "  </tbody>\n",
              "</table>"
            ],
            "text/plain": [
              "<IPython.core.display.HTML object>"
            ]
          },
          "metadata": {
            "tags": []
          }
        }
      ]
    },
    {
      "cell_type": "markdown",
      "metadata": {
        "id": "10nIdqAePJ7I",
        "colab_type": "text"
      },
      "source": [
        "### round 4: Unfreeze the model. 10 epoch & lr: 1e-3"
      ]
    },
    {
      "cell_type": "code",
      "metadata": {
        "id": "IX1_3aMqAMP3",
        "colab_type": "code",
        "outputId": "30859759-f687-4258-e68e-17aa26f422f1",
        "colab": {
          "base_uri": "https://localhost:8080/",
          "height": 300
        }
      },
      "source": [
        "\n",
        "learn.load('tweet_10_cycl-unfreeze')\n",
        "learn.lr_find()\n",
        "learn.recorder.plot(skip_end=15)\n"
      ],
      "execution_count": 0,
      "outputs": [
        {
          "output_type": "display_data",
          "data": {
            "text/html": [
              ""
            ],
            "text/plain": [
              "<IPython.core.display.HTML object>"
            ]
          },
          "metadata": {
            "tags": []
          }
        },
        {
          "output_type": "stream",
          "text": [
            "LR Finder is complete, type {learner_name}.recorder.plot() to see the graph.\n"
          ],
          "name": "stdout"
        },
        {
          "output_type": "display_data",
          "data": {
            "image/png": "[encoded data removed]",
            "text/plain": [
              "<Figure size 432x288 with 1 Axes>"
            ]
          },
          "metadata": {
            "tags": []
          }
        }
      ]
    },
    {
      "cell_type": "code",
      "metadata": {
        "id": "STAdNm5OBtL3",
        "colab_type": "code",
        "outputId": "43dfc88e-a5ac-4fe4-afd3-0b29232b8ff2",
        "colab": {
          "base_uri": "https://localhost:8080/",
          "height": 197
        }
      },
      "source": [
        "# I reduce the lr by one order of magnitude\n",
        "learn.fit_one_cycle(5, 1e-4)\n"
      ],
      "execution_count": 0,
      "outputs": [
        {
          "output_type": "display_data",
          "data": {
            "text/html": [
              "<table border=\"1\" class=\"dataframe\">\n",
              "  <thead>\n",
              "    <tr style=\"text-align: left;\">\n",
              "      <th>epoch</th>\n",
              "      <th>train_loss</th>\n",
              "      <th>valid_loss</th>\n",
              "      <th>accuracy</th>\n",
              "      <th>time</th>\n",
              "    </tr>\n",
              "  </thead>\n",
              "  <tbody>\n",
              "    <tr>\n",
              "      <td>0</td>\n",
              "      <td>3.066545</td>\n",
              "      <td>3.668571</td>\n",
              "      <td>0.293108</td>\n",
              "      <td>00:24</td>\n",
              "    </tr>\n",
              "    <tr>\n",
              "      <td>1</td>\n",
              "      <td>3.061672</td>\n",
              "      <td>3.669597</td>\n",
              "      <td>0.292411</td>\n",
              "      <td>00:24</td>\n",
              "    </tr>\n",
              "    <tr>\n",
              "      <td>2</td>\n",
              "      <td>3.054760</td>\n",
              "      <td>3.671178</td>\n",
              "      <td>0.292857</td>\n",
              "      <td>00:24</td>\n",
              "    </tr>\n",
              "    <tr>\n",
              "      <td>3</td>\n",
              "      <td>3.042768</td>\n",
              "      <td>3.672204</td>\n",
              "      <td>0.293094</td>\n",
              "      <td>00:24</td>\n",
              "    </tr>\n",
              "    <tr>\n",
              "      <td>4</td>\n",
              "      <td>3.039199</td>\n",
              "      <td>3.673077</td>\n",
              "      <td>0.292815</td>\n",
              "      <td>00:24</td>\n",
              "    </tr>\n",
              "  </tbody>\n",
              "</table>"
            ],
            "text/plain": [
              "<IPython.core.display.HTML object>"
            ]
          },
          "metadata": {
            "tags": []
          }
        }
      ]
    },
    {
      "cell_type": "code",
      "metadata": {
        "id": "-Ttt8_tMCOSZ",
        "colab_type": "code",
        "colab": {}
      },
      "source": [
        "learn.save('tweet_10_cycl-unfreeze-e5')"
      ],
      "execution_count": 0,
      "outputs": []
    },
    {
      "cell_type": "code",
      "metadata": {
        "id": "9G6EHeUJEA_g",
        "colab_type": "code",
        "outputId": "8091c3a1-2bf3-42eb-eef5-8d66ea24242e",
        "colab": {
          "base_uri": "https://localhost:8080/",
          "height": 300
        }
      },
      "source": [
        "learn.unfreeze()\n",
        "learn.lr_find()\n",
        "learn.recorder.plot(skip_end=15)\n"
      ],
      "execution_count": 0,
      "outputs": [
        {
          "output_type": "display_data",
          "data": {
            "text/html": [
              ""
            ],
            "text/plain": [
              "<IPython.core.display.HTML object>"
            ]
          },
          "metadata": {
            "tags": []
          }
        },
        {
          "output_type": "stream",
          "text": [
            "LR Finder is complete, type {learner_name}.recorder.plot() to see the graph.\n"
          ],
          "name": "stdout"
        },
        {
          "output_type": "display_data",
          "data": {
            "image/png": "[encoded data removed]",
            "text/plain": [
              "<Figure size 432x288 with 1 Axes>"
            ]
          },
          "metadata": {
            "tags": []
          }
        }
      ]
    },
    {
      "cell_type": "markdown",
      "metadata": {
        "id": "ESxJ3ifwPTSW",
        "colab_type": "text"
      },
      "source": [
        "### round 5: Unfreeze the model. 5 epochs & lr: 1e-4"
      ]
    },
    {
      "cell_type": "code",
      "metadata": {
        "id": "eml6NxCYEJBY",
        "colab_type": "code",
        "outputId": "0e354b6e-36aa-4983-fc57-784269635720",
        "colab": {
          "base_uri": "https://localhost:8080/",
          "height": 197
        }
      },
      "source": [
        "# 5 more epochs\n",
        "learn.load('tweet_10_cycl-unfreeze-e5')\n",
        "learn.fit_one_cycle(5, 1e-4)\n"
      ],
      "execution_count": 0,
      "outputs": [
        {
          "output_type": "display_data",
          "data": {
            "text/html": [
              "<table border=\"1\" class=\"dataframe\">\n",
              "  <thead>\n",
              "    <tr style=\"text-align: left;\">\n",
              "      <th>epoch</th>\n",
              "      <th>train_loss</th>\n",
              "      <th>valid_loss</th>\n",
              "      <th>accuracy</th>\n",
              "      <th>time</th>\n",
              "    </tr>\n",
              "  </thead>\n",
              "  <tbody>\n",
              "    <tr>\n",
              "      <td>0</td>\n",
              "      <td>3.023742</td>\n",
              "      <td>3.673779</td>\n",
              "      <td>0.293178</td>\n",
              "      <td>00:24</td>\n",
              "    </tr>\n",
              "    <tr>\n",
              "      <td>1</td>\n",
              "      <td>3.031167</td>\n",
              "      <td>3.674665</td>\n",
              "      <td>0.293025</td>\n",
              "      <td>00:24</td>\n",
              "    </tr>\n",
              "    <tr>\n",
              "      <td>2</td>\n",
              "      <td>3.030450</td>\n",
              "      <td>3.673790</td>\n",
              "      <td>0.293555</td>\n",
              "      <td>00:24</td>\n",
              "    </tr>\n",
              "    <tr>\n",
              "      <td>3</td>\n",
              "      <td>3.012726</td>\n",
              "      <td>3.677912</td>\n",
              "      <td>0.292773</td>\n",
              "      <td>00:24</td>\n",
              "    </tr>\n",
              "    <tr>\n",
              "      <td>4</td>\n",
              "      <td>3.012006</td>\n",
              "      <td>3.676847</td>\n",
              "      <td>0.293108</td>\n",
              "      <td>00:24</td>\n",
              "    </tr>\n",
              "  </tbody>\n",
              "</table>"
            ],
            "text/plain": [
              "<IPython.core.display.HTML object>"
            ]
          },
          "metadata": {
            "tags": []
          }
        }
      ]
    },
    {
      "cell_type": "markdown",
      "metadata": {
        "id": "R2gDeypIPZqG",
        "colab_type": "text"
      },
      "source": [
        "### Stop training"
      ]
    },
    {
      "cell_type": "markdown",
      "metadata": {
        "id": "hmMb7wjgEpvv",
        "colab_type": "text"
      },
      "source": [
        "The accuracy of the language model is 30% which it is enough for our sentiment classification purpose.\n",
        "The language model is designed to generate ( or predict ) the next item of a sequence -  words in this case - which as mentioned is not really the purpose of this notebook.  For this reason, I consider that 30% accuracy is enough so I save the encoder.\n",
        "\n",
        "The encoder is the part of the model which ' understand ' the sentence. I will load the encoder in the next section ( Classification )"
      ]
    },
    {
      "cell_type": "code",
      "metadata": {
        "id": "TAnIxG9AEWyB",
        "colab_type": "code",
        "colab": {}
      },
      "source": [
        "# I consider that 30% accuracy is enough. I save the model and the encoder\n",
        "learn.save('tweet_10_cycl-unfreeze-e10')\n"
      ],
      "execution_count": 0,
      "outputs": []
    },
    {
      "cell_type": "code",
      "metadata": {
        "id": "bzJN5PJZHLOp",
        "colab_type": "code",
        "colab": {}
      },
      "source": [
        "learn.save_encoder('enc_tweet_10_cycl-unfreeze-e10')"
      ],
      "execution_count": 0,
      "outputs": []
    },
    {
      "cell_type": "markdown",
      "metadata": {
        "id": "MEUyaUzOFuCw",
        "colab_type": "text"
      },
      "source": [
        "In any case, I can use the predictions of the learner to write some tweets. "
      ]
    },
    {
      "cell_type": "code",
      "metadata": {
        "id": "UxptVxT3wDC5",
        "colab_type": "code",
        "colab": {}
      },
      "source": [
        "learn.load('tweet_10_cycl-unfreeze-e10');\n",
        "\n"
      ],
      "execution_count": 0,
      "outputs": []
    },
    {
      "cell_type": "code",
      "metadata": {
        "id": "PvhWzVwIFJgo",
        "colab_type": "code",
        "colab": {}
      },
      "source": [
        "# Just for fun I ask the model to write 2 tweets\n",
        "TEXT = \"I have lost \"\n",
        "N_WORDS = 20\n",
        "tweets = 2"
      ],
      "execution_count": 0,
      "outputs": []
    },
    {
      "cell_type": "code",
      "metadata": {
        "id": "3AQw8rz9FSar",
        "colab_type": "code",
        "outputId": "49596212-0752-4031-bf8b-615203694731",
        "colab": {
          "base_uri": "https://localhost:8080/",
          "height": 52
        }
      },
      "source": [
        "print(\"\\n\".join(learn.predict(TEXT, N_WORDS, temperature=0.75) for _ in range(tweets)))"
      ],
      "execution_count": 0,
      "outputs": [
        {
          "output_type": "stream",
          "text": [
            "I have lost  my bags and i ca n't find a flight that has been Cancelled Flightled , we are leaving\n",
            "I have lost  my family my miles , but i have a few sense of humor xxbos @jetblue Why does this line\n"
          ],
          "name": "stdout"
        }
      ]
    },
    {
      "cell_type": "markdown",
      "metadata": {
        "id": "28B0LzktFlW_",
        "colab_type": "text"
      },
      "source": [
        "## 3. Training the classification model"
      ]
    },
    {
      "cell_type": "markdown",
      "metadata": {
        "id": "0fPHvI_HbzeC",
        "colab_type": "text"
      },
      "source": [
        "### data and model creation"
      ]
    },
    {
      "cell_type": "markdown",
      "metadata": {
        "id": "CHfJ5iH6K0PH",
        "colab_type": "text"
      },
      "source": [
        "Now I create the data_clas object which I will use to build a classifier with our fine-tuned encoder. The method to create the object is similar to the one showed before.\n",
        "\n",
        "We include the data_lm.vocab used for the language training model"
      ]
    },
    {
      "cell_type": "code",
      "metadata": {
        "id": "Jy_FXvhKFVal",
        "colab_type": "code",
        "colab": {}
      },
      "source": [
        "# I create the data for the classification model.\n",
        "# Sentiment label is in the column 2\n",
        "data_clas = (TextList.from_csv(path, 'texts.csv', cols='text',vocab=data_lm.vocab)\n",
        "            .split_by_rand_pct(0.2)\n",
        "           #I randomly split and keep 20% for validation\n",
        "            .label_from_df(cols=2)           \n",
        "            .databunch(bs=256))\n",
        "\n",
        "data_clas.save('data_clas.pkl')"
      ],
      "execution_count": 0,
      "outputs": []
    },
    {
      "cell_type": "code",
      "metadata": {
        "id": "F2H70_SlF9Hd",
        "colab_type": "code",
        "colab": {}
      },
      "source": [
        "data_clas = load_data(path, 'data_clas.pkl', bs=256)"
      ],
      "execution_count": 0,
      "outputs": []
    },
    {
      "cell_type": "code",
      "metadata": {
        "id": "xzX8ND31GDM4",
        "colab_type": "code",
        "outputId": "3a5566b6-379e-42c6-bd8f-2ea53859d78a",
        "colab": {
          "base_uri": "https://localhost:8080/",
          "height": 293
        }
      },
      "source": [
        "data_clas.show_batch() # This is how the data looks like and the target ( sentiment )"
      ],
      "execution_count": 0,
      "outputs": [
        {
          "output_type": "display_data",
          "data": {
            "text/html": [
              "<table border=\"1\" class=\"dataframe\">\n",
              "  <thead>\n",
              "    <tr style=\"text-align: right;\">\n",
              "      <th>text</th>\n",
              "      <th>target</th>\n",
              "    </tr>\n",
              "  </thead>\n",
              "  <tbody>\n",
              "    <tr>\n",
              "      <td>xxbos @united xxup where xxup is xxup my xxup fucking xxup bag ? ! ? ! xxmaj where the fuck is my fucking bag ? ? ? xxup tell xxup me xxup now xxup or xxup give xxup me a xxup number xxup to xxup call a xxup human . xxup xxunk m</td>\n",
              "      <td>negative</td>\n",
              "    </tr>\n",
              "    <tr>\n",
              "      <td>xxbos @usairways e xxrep 4 y ! xxmaj cancelled xxmaj flightlations , xxmaj flight xxmaj booking xxmaj problemss , reflight xxmaj booking xxmaj problemss , but y' all got me on the same flight out tonight ( not tomorrow ) &amp; &amp; the xxup fc upgrade . xxmaj thx !</td>\n",
              "      <td>positive</td>\n",
              "    </tr>\n",
              "    <tr>\n",
              "      <td>xxbos @usairways 4 xxunk , 4 / 4 delayed . xxmaj xxunk &gt; xxup ctl . xxup ctl &gt; xxup jan . xxup jan &gt; xxup ctl . xxup ctl &gt; xxup xxunk . xxmaj my year off from flying with you guys was the way to go .</td>\n",
              "      <td>negative</td>\n",
              "    </tr>\n",
              "    <tr>\n",
              "      <td>xxbos @americanair our ft xxunk xxup xxunk / xxup dfw ( w / cx to xxup lga ) tomorrow xxmaj cancelled xxmaj flighted , 4 hrs so far waiting for call back . xxmaj what should we do ? xxmaj need to get to nyc</td>\n",
              "      <td>negative</td>\n",
              "    </tr>\n",
              "    <tr>\n",
              "      <td>xxbos @americanair xxmaj hey , xxup aa ! xxmaj there was a mistake made by your xxup cr on my xxmaj flight xxmaj booking xxmaj problems . xxmaj when i call your reservations # , i keep getting hung up on . xxmaj advise .</td>\n",
              "      <td>negative</td>\n",
              "    </tr>\n",
              "  </tbody>\n",
              "</table>"
            ],
            "text/plain": [
              "<IPython.core.display.HTML object>"
            ]
          },
          "metadata": {
            "tags": []
          }
        }
      ]
    },
    {
      "cell_type": "markdown",
      "metadata": {
        "id": "S2llaAVVLlCB",
        "colab_type": "text"
      },
      "source": [
        "This time, rather than creating a language model learner, we’re creating a text classifier learner.\n",
        "I include the encoder generated in the previous language model training."
      ]
    },
    {
      "cell_type": "code",
      "metadata": {
        "id": "onnq3AZLGE5Z",
        "colab_type": "code",
        "colab": {}
      },
      "source": [
        "# Create the learner and load the encoder\n",
        "learn = text_classifier_learner(data_clas, AWD_LSTM, drop_mult=0.5)\n",
        "learn.load_encoder('enc_tweet_10_cycl-unfreeze-e10')"
      ],
      "execution_count": 0,
      "outputs": []
    },
    {
      "cell_type": "code",
      "metadata": {
        "id": "lezCSlS_HzRy",
        "colab_type": "code",
        "outputId": "e6682e0d-e645-47e3-fab5-1708a53ef34b",
        "colab": {
          "base_uri": "https://localhost:8080/",
          "height": 621
        }
      },
      "source": [
        "# and this is its architecture of the classification model\n",
        "learn.summary()"
      ],
      "execution_count": 0,
      "outputs": [
        {
          "output_type": "execute_result",
          "data": {
            "text/plain": [
              "SequentialRNN\n",
              "======================================================================\n",
              "Layer (type)         Output Shape         Param #    Trainable \n",
              "======================================================================\n",
              "RNNDropout           [53, 400]            0          False     \n",
              "______________________________________________________________________\n",
              "RNNDropout           [53, 1152]           0          False     \n",
              "______________________________________________________________________\n",
              "RNNDropout           [53, 1152]           0          False     \n",
              "______________________________________________________________________\n",
              "BatchNorm1d          [1200]               2,400      True      \n",
              "______________________________________________________________________\n",
              "Dropout              [1200]               0          False     \n",
              "______________________________________________________________________\n",
              "Linear               [50]                 60,050     True      \n",
              "______________________________________________________________________\n",
              "ReLU                 [50]                 0          False     \n",
              "______________________________________________________________________\n",
              "BatchNorm1d          [50]                 100        True      \n",
              "______________________________________________________________________\n",
              "Dropout              [50]                 0          False     \n",
              "______________________________________________________________________\n",
              "Linear               [3]                  153        True      \n",
              "______________________________________________________________________\n",
              "\n",
              "Total params: 62,703\n",
              "Total trainable params: 62,703\n",
              "Total non-trainable params: 0\n",
              "Optimized with 'torch.optim.adam.Adam', betas=(0.9, 0.99)\n",
              "Using true weight decay as discussed in https://www.fast.ai/2018/07/02/adam-weight-decay/ \n",
              "Loss function : FlattenedLoss\n",
              "======================================================================\n",
              "Callbacks functions applied \n",
              "    RNNTrainer"
            ]
          },
          "metadata": {
            "tags": []
          },
          "execution_count": 47
        }
      ]
    },
    {
      "cell_type": "markdown",
      "metadata": {
        "id": "zoVlsAgyQmxY",
        "colab_type": "text"
      },
      "source": [
        "For the training of the classification model I will use the same process described before:\n",
        "\n",
        "*   Identify the best initial learning rate using lr_find(). It plots lr vs loss relationship for a learner so I can choose the best starting lr\n",
        "*   Plot the learning rate.\n",
        "*   Train the model using the fit_one_cycle based on Leslie Smith's 1cycle policy.\n",
        "*   Save the model "
      ]
    },
    {
      "cell_type": "markdown",
      "metadata": {
        "id": "SgkImN9sRAnj",
        "colab_type": "text"
      },
      "source": [
        "### Round 1: 1 epoch and lr: 1e-2"
      ]
    },
    {
      "cell_type": "code",
      "metadata": {
        "id": "J4Ks-BPIHUQm",
        "colab_type": "code",
        "outputId": "a47f47ec-44d0-4cc1-d1ef-e6211b3d7496",
        "colab": {
          "base_uri": "https://localhost:8080/",
          "height": 35
        }
      },
      "source": [
        "learn.lr_find()"
      ],
      "execution_count": 0,
      "outputs": [
        {
          "output_type": "display_data",
          "data": {
            "text/html": [
              ""
            ],
            "text/plain": [
              "<IPython.core.display.HTML object>"
            ]
          },
          "metadata": {
            "tags": []
          }
        },
        {
          "output_type": "stream",
          "text": [
            "LR Finder is complete, type {learner_name}.recorder.plot() to see the graph.\n"
          ],
          "name": "stdout"
        }
      ]
    },
    {
      "cell_type": "code",
      "metadata": {
        "id": "QqEVWLe9HXGW",
        "colab_type": "code",
        "outputId": "d37d1b54-b05b-44da-d885-289d3c1cecf2",
        "colab": {
          "base_uri": "https://localhost:8080/",
          "height": 283
        }
      },
      "source": [
        "learn.recorder.plot()"
      ],
      "execution_count": 0,
      "outputs": [
        {
          "output_type": "display_data",
          "data": {
            "image/png": "[encoded data removed]",
            "text/plain": [
              "<Figure size 432x288 with 1 Axes>"
            ]
          },
          "metadata": {
            "tags": []
          }
        }
      ]
    },
    {
      "cell_type": "code",
      "metadata": {
        "id": "IhCzkcBHHZWe",
        "colab_type": "code",
        "outputId": "e7fb1f63-96d1-4dd5-89c9-94d7e4d97743",
        "colab": {
          "base_uri": "https://localhost:8080/",
          "height": 137
        }
      },
      "source": [
        "learn.fit_one_cycle(3, 1e-2)"
      ],
      "execution_count": 0,
      "outputs": [
        {
          "output_type": "display_data",
          "data": {
            "text/html": [
              "<table border=\"1\" class=\"dataframe\">\n",
              "  <thead>\n",
              "    <tr style=\"text-align: left;\">\n",
              "      <th>epoch</th>\n",
              "      <th>train_loss</th>\n",
              "      <th>valid_loss</th>\n",
              "      <th>accuracy</th>\n",
              "      <th>time</th>\n",
              "    </tr>\n",
              "  </thead>\n",
              "  <tbody>\n",
              "    <tr>\n",
              "      <td>0</td>\n",
              "      <td>0.791217</td>\n",
              "      <td>0.588389</td>\n",
              "      <td>0.765710</td>\n",
              "      <td>00:09</td>\n",
              "    </tr>\n",
              "    <tr>\n",
              "      <td>1</td>\n",
              "      <td>0.699029</td>\n",
              "      <td>0.539872</td>\n",
              "      <td>0.783470</td>\n",
              "      <td>00:09</td>\n",
              "    </tr>\n",
              "    <tr>\n",
              "      <td>2</td>\n",
              "      <td>0.657660</td>\n",
              "      <td>0.521913</td>\n",
              "      <td>0.791667</td>\n",
              "      <td>00:09</td>\n",
              "    </tr>\n",
              "  </tbody>\n",
              "</table>"
            ],
            "text/plain": [
              "<IPython.core.display.HTML object>"
            ]
          },
          "metadata": {
            "tags": []
          }
        }
      ]
    },
    {
      "cell_type": "code",
      "metadata": {
        "id": "TtDBz2UtHdwk",
        "colab_type": "code",
        "colab": {}
      },
      "source": [
        "learn.save('3-cycle-class')\n"
      ],
      "execution_count": 0,
      "outputs": []
    },
    {
      "cell_type": "code",
      "metadata": {
        "id": "18kMHm0xHkub",
        "colab_type": "code",
        "colab": {}
      },
      "source": [
        "learn.load('3-cycle-class');"
      ],
      "execution_count": 0,
      "outputs": []
    },
    {
      "cell_type": "markdown",
      "metadata": {
        "id": "QOQJlITGRRbH",
        "colab_type": "text"
      },
      "source": [
        "### Round 2: 1 epoch, discriminative learning rates and discriminative layer training"
      ]
    },
    {
      "cell_type": "markdown",
      "metadata": {
        "id": "CiQfjBQ9RiKW",
        "colab_type": "text"
      },
      "source": [
        "**discriminative learning rates.**\n",
        "I apply different learning rates to different group of layers.\n",
        "\n",
        "**Discriminative layer training**\n",
        "Instead of unfreezing the whole model, I am just goint to unfreeze the last 2 groups of layers as it seems to be benefitial for classification models.\n",
        "\n",
        "**momentum**\n",
        " For training RNN, slowing the momentum it is a good technique as it seems to accelerate the training.\n"
      ]
    },
    {
      "cell_type": "code",
      "metadata": {
        "id": "CSq0IlzOeb7F",
        "colab_type": "code",
        "outputId": "78bc3d89-d0c3-46dc-ecf7-d5ed02013e8d",
        "colab": {
          "base_uri": "https://localhost:8080/",
          "height": 335
        }
      },
      "source": [
        "learn.lr_find()\n",
        "learn.recorder.plot(suggestion=True)"
      ],
      "execution_count": 0,
      "outputs": [
        {
          "output_type": "display_data",
          "data": {
            "text/html": [
              ""
            ],
            "text/plain": [
              "<IPython.core.display.HTML object>"
            ]
          },
          "metadata": {
            "tags": []
          }
        },
        {
          "output_type": "stream",
          "text": [
            "LR Finder is complete, type {learner_name}.recorder.plot() to see the graph.\n",
            "Min numerical gradient: 7.59E-07\n",
            "Min loss divided by 10: 3.31E-07\n"
          ],
          "name": "stdout"
        },
        {
          "output_type": "display_data",
          "data": {
            "image/png": "[encoded data removed]",
            "text/plain": [
              "<Figure size 432x288 with 1 Axes>"
            ]
          },
          "metadata": {
            "tags": []
          }
        }
      ]
    },
    {
      "cell_type": "code",
      "metadata": {
        "id": "j1Ff_zMZHnsk",
        "colab_type": "code",
        "outputId": "e6541f55-cbbc-44c4-82b1-8738f94fce7e",
        "colab": {
          "base_uri": "https://localhost:8080/",
          "height": 137
        }
      },
      "source": [
        "learn.freeze_to(-2)\n",
        "learn.fit_one_cycle(3, slice(1e-2/(2.6**4),1e-2))"
      ],
      "execution_count": 0,
      "outputs": [
        {
          "output_type": "display_data",
          "data": {
            "text/html": [
              "<table border=\"1\" class=\"dataframe\">\n",
              "  <thead>\n",
              "    <tr style=\"text-align: left;\">\n",
              "      <th>epoch</th>\n",
              "      <th>train_loss</th>\n",
              "      <th>valid_loss</th>\n",
              "      <th>accuracy</th>\n",
              "      <th>time</th>\n",
              "    </tr>\n",
              "  </thead>\n",
              "  <tbody>\n",
              "    <tr>\n",
              "      <td>0</td>\n",
              "      <td>0.608015</td>\n",
              "      <td>0.554241</td>\n",
              "      <td>0.776298</td>\n",
              "      <td>00:11</td>\n",
              "    </tr>\n",
              "    <tr>\n",
              "      <td>1</td>\n",
              "      <td>0.611125</td>\n",
              "      <td>0.513321</td>\n",
              "      <td>0.800205</td>\n",
              "      <td>00:10</td>\n",
              "    </tr>\n",
              "    <tr>\n",
              "      <td>2</td>\n",
              "      <td>0.577608</td>\n",
              "      <td>0.493403</td>\n",
              "      <td>0.799863</td>\n",
              "      <td>00:11</td>\n",
              "    </tr>\n",
              "  </tbody>\n",
              "</table>"
            ],
            "text/plain": [
              "<IPython.core.display.HTML object>"
            ]
          },
          "metadata": {
            "tags": []
          }
        }
      ]
    },
    {
      "cell_type": "code",
      "metadata": {
        "id": "LlAYfrOZHsUt",
        "colab_type": "code",
        "colab": {}
      },
      "source": [
        "learn.save('3-cycle-class-round2')"
      ],
      "execution_count": 0,
      "outputs": []
    },
    {
      "cell_type": "markdown",
      "metadata": {
        "id": "I586G_q2T88z",
        "colab_type": "text"
      },
      "source": [
        "### Round 3: 2 epochs, lower discriminative learning rates and highrt number of discriminative layer training"
      ]
    },
    {
      "cell_type": "code",
      "metadata": {
        "id": "0k3AfPiJH3-G",
        "colab_type": "code",
        "colab": {}
      },
      "source": [
        "learn.load('3-cycle-class-round2');"
      ],
      "execution_count": 0,
      "outputs": []
    },
    {
      "cell_type": "code",
      "metadata": {
        "id": "Q1RcJBs7ICJ5",
        "colab_type": "code",
        "outputId": "aafff6db-9513-433a-b0d4-ad79b688014c",
        "colab": {
          "base_uri": "https://localhost:8080/",
          "height": 335
        }
      },
      "source": [
        "learn.lr_find()\n",
        "learn.recorder.plot(suggestion=True)"
      ],
      "execution_count": 0,
      "outputs": [
        {
          "output_type": "display_data",
          "data": {
            "text/html": [
              ""
            ],
            "text/plain": [
              "<IPython.core.display.HTML object>"
            ]
          },
          "metadata": {
            "tags": []
          }
        },
        {
          "output_type": "stream",
          "text": [
            "LR Finder is complete, type {learner_name}.recorder.plot() to see the graph.\n",
            "Min numerical gradient: 7.59E-07\n",
            "Min loss divided by 10: 9.12E-08\n"
          ],
          "name": "stdout"
        },
        {
          "output_type": "display_data",
          "data": {
            "image/png": "[encoded data removed]",
            "text/plain": [
              "<Figure size 432x288 with 1 Axes>"
            ]
          },
          "metadata": {
            "tags": []
          }
        }
      ]
    },
    {
      "cell_type": "code",
      "metadata": {
        "id": "lp1i5XcRH5kT",
        "colab_type": "code",
        "outputId": "c475d5bd-3431-478c-80cd-2ecb203c7225",
        "colab": {
          "base_uri": "https://localhost:8080/",
          "height": 137
        }
      },
      "source": [
        "learn.freeze_to(-3)\n",
        "learn.fit_one_cycle(3, slice(1e-4/(2.6**4),1e-2))"
      ],
      "execution_count": 0,
      "outputs": [
        {
          "output_type": "display_data",
          "data": {
            "text/html": [
              "<table border=\"1\" class=\"dataframe\">\n",
              "  <thead>\n",
              "    <tr style=\"text-align: left;\">\n",
              "      <th>epoch</th>\n",
              "      <th>train_loss</th>\n",
              "      <th>valid_loss</th>\n",
              "      <th>accuracy</th>\n",
              "      <th>time</th>\n",
              "    </tr>\n",
              "  </thead>\n",
              "  <tbody>\n",
              "    <tr>\n",
              "      <td>0</td>\n",
              "      <td>0.549752</td>\n",
              "      <td>0.480020</td>\n",
              "      <td>0.811475</td>\n",
              "      <td>00:18</td>\n",
              "    </tr>\n",
              "    <tr>\n",
              "      <td>1</td>\n",
              "      <td>0.549999</td>\n",
              "      <td>0.516546</td>\n",
              "      <td>0.798839</td>\n",
              "      <td>00:17</td>\n",
              "    </tr>\n",
              "    <tr>\n",
              "      <td>2</td>\n",
              "      <td>0.537982</td>\n",
              "      <td>0.472321</td>\n",
              "      <td>0.816940</td>\n",
              "      <td>00:17</td>\n",
              "    </tr>\n",
              "  </tbody>\n",
              "</table>"
            ],
            "text/plain": [
              "<IPython.core.display.HTML object>"
            ]
          },
          "metadata": {
            "tags": []
          }
        }
      ]
    },
    {
      "cell_type": "code",
      "metadata": {
        "id": "dC50Bu5zIMb4",
        "colab_type": "code",
        "colab": {}
      },
      "source": [
        "learn.save('3-cycle-class-round3')"
      ],
      "execution_count": 0,
      "outputs": []
    },
    {
      "cell_type": "code",
      "metadata": {
        "id": "SL51S_6VIfWI",
        "colab_type": "code",
        "colab": {}
      },
      "source": [
        "learn.load('3-cycle-class-round3');"
      ],
      "execution_count": 0,
      "outputs": []
    },
    {
      "cell_type": "markdown",
      "metadata": {
        "id": "P0B5XQMnJxwr",
        "colab_type": "text"
      },
      "source": [
        "## 4. Result Analysis\n"
      ]
    },
    {
      "cell_type": "markdown",
      "metadata": {
        "id": "9zuNx1uYBbjJ",
        "colab_type": "text"
      },
      "source": [
        "### Individual predictions"
      ]
    },
    {
      "cell_type": "markdown",
      "metadata": {
        "id": "DNFA4ACMUSef",
        "colab_type": "text"
      },
      "source": [
        "Once the model has fininsh, I can validate the model.The following 4 lines are 4 different predictions"
      ]
    },
    {
      "cell_type": "code",
      "metadata": {
        "id": "KFCuK9-1Igih",
        "colab_type": "code",
        "outputId": "f0e9e98c-1b73-4a31-f166-5cc71b74d745",
        "colab": {
          "base_uri": "https://localhost:8080/",
          "height": 34
        }
      },
      "source": [
        "learn.predict(\"@united thank you. I flew into Newark from Vail/Eagle.\")\n"
      ],
      "execution_count": 0,
      "outputs": [
        {
          "output_type": "execute_result",
          "data": {
            "text/plain": [
              "(Category positive, tensor(2), tensor([0.0449, 0.2877, 0.6674]))"
            ]
          },
          "metadata": {
            "tags": []
          },
          "execution_count": 10
        }
      ]
    },
    {
      "cell_type": "code",
      "metadata": {
        "id": "Lnopk0YdI5cW",
        "colab_type": "code",
        "outputId": "7d277474-5b4e-4309-99ad-05895dfbfa66",
        "colab": {
          "base_uri": "https://localhost:8080/",
          "height": 34
        }
      },
      "source": [
        "learn.predict(\"@united where's my damn bag??\")\n"
      ],
      "execution_count": 0,
      "outputs": [
        {
          "output_type": "execute_result",
          "data": {
            "text/plain": [
              "(Category negative, tensor(0), tensor([0.6774, 0.2834, 0.0392]))"
            ]
          },
          "metadata": {
            "tags": []
          },
          "execution_count": 11
        }
      ]
    },
    {
      "cell_type": "code",
      "metadata": {
        "id": "DkaCIgbdIpdX",
        "colab_type": "code",
        "outputId": "31651a18-848f-4ccb-f7d1-5fb5c1543cc2",
        "colab": {
          "base_uri": "https://localhost:8080/",
          "height": 34
        }
      },
      "source": [
        "learn.predict(\"@united I would love if someone could get me back to Austin tonight and I do not wish to wait til tomorrow morning.\")\n"
      ],
      "execution_count": 0,
      "outputs": [
        {
          "output_type": "execute_result",
          "data": {
            "text/plain": [
              "(Category negative, tensor(0), tensor([0.5471, 0.4043, 0.0487]))"
            ]
          },
          "metadata": {
            "tags": []
          },
          "execution_count": 12
        }
      ]
    },
    {
      "cell_type": "code",
      "metadata": {
        "id": "aGMM-o_PJOvT",
        "colab_type": "code",
        "outputId": "06cb7dd9-4ba0-43d6-e9c2-aeb2d467d936",
        "colab": {
          "base_uri": "https://localhost:8080/",
          "height": 34
        }
      },
      "source": [
        "learn.predict(\"@united please upload the March on-demand entertainment listing on your website! âœˆï¸\")\n",
        "\n",
        "\n"
      ],
      "execution_count": 0,
      "outputs": [
        {
          "output_type": "execute_result",
          "data": {
            "text/plain": [
              "(Category negative, tensor(0), tensor([0.5054, 0.2351, 0.2594]))"
            ]
          },
          "metadata": {
            "tags": []
          },
          "execution_count": 62
        }
      ]
    },
    {
      "cell_type": "markdown",
      "metadata": {
        "id": "XRq1LmGsjSJp",
        "colab_type": "text"
      },
      "source": [
        "###Validation set"
      ]
    },
    {
      "cell_type": "markdown",
      "metadata": {
        "id": "t40XACxHjWXE",
        "colab_type": "text"
      },
      "source": [
        "Using the function ' interp' I can plot the confusion matrix of the model. As we can see, the most missclassified tweets are the neutral ones. \n"
      ]
    },
    {
      "cell_type": "code",
      "metadata": {
        "id": "N8_tcNGReW3Q",
        "colab_type": "code",
        "colab": {}
      },
      "source": [
        "interp = ClassificationInterpretation.from_learner(learn)"
      ],
      "execution_count": 0,
      "outputs": []
    },
    {
      "cell_type": "code",
      "metadata": {
        "id": "QCP2wYCFr9lh",
        "colab_type": "code",
        "outputId": "7193b231-1e39-421a-c1ca-163c83532880",
        "colab": {
          "base_uri": "https://localhost:8080/",
          "height": 742
        }
      },
      "source": [
        "interp.plot_confusion_matrix(figsize=(12,12), dpi=60)"
      ],
      "execution_count": 0,
      "outputs": [
        {
          "output_type": "display_data",
          "data": {
            "image/png": "[encoded data removed]",
            "text/plain": [
              "<Figure size 720x720 with 1 Axes>"
            ]
          },
          "metadata": {
            "tags": []
          }
        }
      ]
    },
    {
      "cell_type": "markdown",
      "metadata": {
        "id": "NctAO4lBBen6",
        "colab_type": "text"
      },
      "source": [
        "### Full dataset predictions"
      ]
    },
    {
      "cell_type": "markdown",
      "metadata": {
        "id": "dBxabX4RMHAP",
        "colab_type": "text"
      },
      "source": [
        "Now I predict the sentiment of all the dataset."
      ]
    },
    {
      "cell_type": "code",
      "metadata": {
        "id": "S3A_17U6MWcw",
        "colab_type": "code",
        "colab": {}
      },
      "source": [
        "sentiment=[]\n",
        "for index, row in data_df.iterrows():    \n",
        "    tweet=row['text']\n",
        "    pred=learn.predict(tweet)\n",
        "    idx=pred[1]\n",
        "    idx=idx.item()\n",
        "    p=pred[2][idx].item()\n",
        "    sentiment.append([tweet,pred[0],\"{:10.2f}\".format(p)])\n",
        "    "
      ],
      "execution_count": 0,
      "outputs": []
    },
    {
      "cell_type": "code",
      "metadata": {
        "id": "zunIa9M6PEqe",
        "colab_type": "code",
        "colab": {}
      },
      "source": [
        "# Save as Panda and as CSV.\n",
        "\n",
        "df_sentiment = pd.DataFrame(sentiment,columns =['tweet', 'sentiment','prob']) \n",
        "#df.to_csv(path/\"tweets_submission.csv\", index=False)\n",
        "df_sentiment.to_csv(path/\"tweets_sent_classification.csv\", index=False)"
      ],
      "execution_count": 0,
      "outputs": []
    },
    {
      "cell_type": "code",
      "metadata": {
        "id": "RpbREqtfb59s",
        "colab_type": "code",
        "colab": {}
      },
      "source": [
        "df_sentiment=pd.read_csv(path/'tweets_sent_classification.csv')"
      ],
      "execution_count": 0,
      "outputs": []
    },
    {
      "cell_type": "markdown",
      "metadata": {
        "id": "3TVgxER0j4sf",
        "colab_type": "text"
      },
      "source": [
        "As shown in the classification matrix, most of the missclassified tweets are the neutral tweets classified as negative"
      ]
    },
    {
      "cell_type": "code",
      "metadata": {
        "id": "Y9Z69jGueIkF",
        "colab_type": "code",
        "outputId": "16f03bf1-b24c-42cd-86a1-1d0b35e34558",
        "colab": {
          "base_uri": "https://localhost:8080/",
          "height": 87
        }
      },
      "source": [
        "# My prediction\n",
        "print(df_sentiment.sentiment.value_counts(normalize=True))"
      ],
      "execution_count": 0,
      "outputs": [
        {
          "output_type": "stream",
          "text": [
            "negative    0.706489\n",
            "positive    0.155055\n",
            "neutral     0.138456\n",
            "Name: sentiment, dtype: float64\n"
          ],
          "name": "stdout"
        }
      ]
    },
    {
      "cell_type": "code",
      "metadata": {
        "id": "mkmVXukhecXv",
        "colab_type": "code",
        "outputId": "7723f540-e711-47db-8216-53ef902681fb",
        "colab": {
          "base_uri": "https://localhost:8080/",
          "height": 87
        }
      },
      "source": [
        "# Original file. \n",
        "original = pd.read_csv(path/'Tweets.csv')\n",
        "print(original.airline_sentiment.value_counts(normalize=True))"
      ],
      "execution_count": 0,
      "outputs": [
        {
          "output_type": "stream",
          "text": [
            "negative    0.626913\n",
            "neutral     0.211680\n",
            "positive    0.161407\n",
            "Name: airline_sentiment, dtype: float64\n"
          ],
          "name": "stdout"
        }
      ]
    },
    {
      "cell_type": "markdown",
      "metadata": {
        "id": "8bluv7k7Blg6",
        "colab_type": "text"
      },
      "source": [
        "### Analysis"
      ]
    },
    {
      "cell_type": "markdown",
      "metadata": {
        "id": "0GvkDndckIKh",
        "colab_type": "text"
      },
      "source": [
        "In this section I will tryto find the reason for this missclassification"
      ]
    },
    {
      "cell_type": "code",
      "metadata": {
        "id": "A3Cq1Fk367uN",
        "colab_type": "code",
        "colab": {}
      },
      "source": [
        "data_df=data_df[['airline_sentiment','airline_sentiment_confidence']] "
      ],
      "execution_count": 0,
      "outputs": []
    },
    {
      "cell_type": "code",
      "metadata": {
        "id": "P44uqPD0cuh-",
        "colab_type": "code",
        "colab": {}
      },
      "source": [
        "# I combine both the prediction and the ground truth\n",
        "\n",
        "model_vs_real =pd.concat([df_sentiment,data_df], axis=1)"
      ],
      "execution_count": 0,
      "outputs": []
    },
    {
      "cell_type": "code",
      "metadata": {
        "id": "cuEmVYD1c2IE",
        "colab_type": "code",
        "outputId": "a4f48c49-038d-4f13-a98b-b843e9394dd4",
        "colab": {
          "base_uri": "https://localhost:8080/",
          "height": 452
        }
      },
      "source": [
        "# The columns 2nd and 3rd are the predictions from the model ( sentiment and probability)\n",
        "# Columns 4th and 5th are the labels provided in the dataset\n",
        "print('The number of tweets in the data set are:',model_vs_real.tweet.count()) \n",
        "model_vs_real.head()"
      ],
      "execution_count": 0,
      "outputs": [
        {
          "output_type": "stream",
          "text": [
            "The number of tweets in the data set are: 14640\n"
          ],
          "name": "stdout"
        },
        {
          "output_type": "execute_result",
          "data": {
            "text/html": [
              "<div>\n",
              "<style scoped>\n",
              "    .dataframe tbody tr th:only-of-type {\n",
              "        vertical-align: middle;\n",
              "    }\n",
              "\n",
              "    .dataframe tbody tr th {\n",
              "        vertical-align: top;\n",
              "    }\n",
              "\n",
              "    .dataframe thead th {\n",
              "        text-align: right;\n",
              "    }\n",
              "</style>\n",
              "<table border=\"1\" class=\"dataframe\">\n",
              "  <thead>\n",
              "    <tr style=\"text-align: right;\">\n",
              "      <th></th>\n",
              "      <th>tweet</th>\n",
              "      <th>sentiment</th>\n",
              "      <th>prob</th>\n",
              "      <th>airline_sentiment</th>\n",
              "      <th>airline_sentiment_confidence</th>\n",
              "    </tr>\n",
              "  </thead>\n",
              "  <tbody>\n",
              "    <tr>\n",
              "      <th>0</th>\n",
              "      <td>@VirginAmerica What @dhepburn said.</td>\n",
              "      <td>negative</td>\n",
              "      <td>0.53</td>\n",
              "      <td>neutral</td>\n",
              "      <td>1.0000</td>\n",
              "    </tr>\n",
              "    <tr>\n",
              "      <th>1</th>\n",
              "      <td>@VirginAmerica plus you've added commercials t...</td>\n",
              "      <td>negative</td>\n",
              "      <td>0.57</td>\n",
              "      <td>positive</td>\n",
              "      <td>0.3486</td>\n",
              "    </tr>\n",
              "    <tr>\n",
              "      <th>2</th>\n",
              "      <td>@VirginAmerica I didn't today... Must mean I n...</td>\n",
              "      <td>negative</td>\n",
              "      <td>0.58</td>\n",
              "      <td>neutral</td>\n",
              "      <td>0.6837</td>\n",
              "    </tr>\n",
              "    <tr>\n",
              "      <th>3</th>\n",
              "      <td>@VirginAmerica it's really aggressive to blast...</td>\n",
              "      <td>negative</td>\n",
              "      <td>0.97</td>\n",
              "      <td>negative</td>\n",
              "      <td>1.0000</td>\n",
              "    </tr>\n",
              "    <tr>\n",
              "      <th>4</th>\n",
              "      <td>@VirginAmerica and it's a really big bad thing...</td>\n",
              "      <td>negative</td>\n",
              "      <td>0.84</td>\n",
              "      <td>negative</td>\n",
              "      <td>1.0000</td>\n",
              "    </tr>\n",
              "  </tbody>\n",
              "</table>\n",
              "</div>"
            ],
            "text/plain": [
              "                                               tweet  ... airline_sentiment_confidence\n",
              "0                @VirginAmerica What @dhepburn said.  ...                       1.0000\n",
              "1  @VirginAmerica plus you've added commercials t...  ...                       0.3486\n",
              "2  @VirginAmerica I didn't today... Must mean I n...  ...                       0.6837\n",
              "3  @VirginAmerica it's really aggressive to blast...  ...                       1.0000\n",
              "4  @VirginAmerica and it's a really big bad thing...  ...                       1.0000\n",
              "\n",
              "[5 rows x 5 columns]"
            ]
          },
          "metadata": {
            "tags": []
          },
          "execution_count": 91
        }
      ]
    },
    {
      "cell_type": "code",
      "metadata": {
        "id": "f4j-kMv5uoIK",
        "colab_type": "code",
        "colab": {}
      },
      "source": [
        "# I compare the prediction Vs the truth and I extract the ones where there's a difference in order to analyse.\n",
        "\n",
        "analysis=[]\n",
        "\n",
        "for index, row in model_vs_real.iterrows():\n",
        "    if (row['sentiment'] != row['airline_sentiment']):\n",
        "      analysis.append([index,row['tweet'],row['sentiment'],row['prob'],row['airline_sentiment'],row['airline_sentiment_confidence']])"
      ],
      "execution_count": 0,
      "outputs": []
    },
    {
      "cell_type": "code",
      "metadata": {
        "id": "TYHd6_DtwTDT",
        "colab_type": "code",
        "colab": {}
      },
      "source": [
        "analysis_pd = pd.DataFrame(analysis,columns =['index','tweet', 'sentiment','prob','true_sent','sent_conf']) \n",
        "analysis_pd.to_csv(path/\"analysis_tweets_sent_classification.csv\", index=False)\n"
      ],
      "execution_count": 0,
      "outputs": []
    },
    {
      "cell_type": "markdown",
      "metadata": {
        "id": "_1c6WYTOkRo-",
        "colab_type": "text"
      },
      "source": [
        "These are the missclassified tweets in the dataset"
      ]
    },
    {
      "cell_type": "code",
      "metadata": {
        "id": "CnZC0Viiwsgh",
        "colab_type": "code",
        "outputId": "be9f4830-e74a-4ed6-9653-01b2f4584ba7",
        "colab": {
          "base_uri": "https://localhost:8080/",
          "height": 298
        }
      },
      "source": [
        "# These are tweets where the model and the dataset sentiment don't match\n",
        "analysis_pd=pd.read_csv(path/'analysis_tweets_sent_classification.csv')\n",
        "print('The number of misclassified tweets are:',analysis_pd.tweet.count()) \n",
        "analysis_pd.head()"
      ],
      "execution_count": 0,
      "outputs": [
        {
          "output_type": "stream",
          "text": [
            "The number of misclassified tweets are: 2286\n"
          ],
          "name": "stdout"
        },
        {
          "output_type": "execute_result",
          "data": {
            "text/html": [
              "<div>\n",
              "<style scoped>\n",
              "    .dataframe tbody tr th:only-of-type {\n",
              "        vertical-align: middle;\n",
              "    }\n",
              "\n",
              "    .dataframe tbody tr th {\n",
              "        vertical-align: top;\n",
              "    }\n",
              "\n",
              "    .dataframe thead th {\n",
              "        text-align: right;\n",
              "    }\n",
              "</style>\n",
              "<table border=\"1\" class=\"dataframe\">\n",
              "  <thead>\n",
              "    <tr style=\"text-align: right;\">\n",
              "      <th></th>\n",
              "      <th>index</th>\n",
              "      <th>tweet</th>\n",
              "      <th>sentiment</th>\n",
              "      <th>prob</th>\n",
              "      <th>true_sent</th>\n",
              "      <th>sent_conf</th>\n",
              "    </tr>\n",
              "  </thead>\n",
              "  <tbody>\n",
              "    <tr>\n",
              "      <th>0</th>\n",
              "      <td>0</td>\n",
              "      <td>@VirginAmerica What @dhepburn said.</td>\n",
              "      <td>negative</td>\n",
              "      <td>0.53</td>\n",
              "      <td>neutral</td>\n",
              "      <td>1.0000</td>\n",
              "    </tr>\n",
              "    <tr>\n",
              "      <th>1</th>\n",
              "      <td>1</td>\n",
              "      <td>@VirginAmerica plus you've added commercials t...</td>\n",
              "      <td>negative</td>\n",
              "      <td>0.57</td>\n",
              "      <td>positive</td>\n",
              "      <td>0.3486</td>\n",
              "    </tr>\n",
              "    <tr>\n",
              "      <th>2</th>\n",
              "      <td>2</td>\n",
              "      <td>@VirginAmerica I didn't today... Must mean I n...</td>\n",
              "      <td>negative</td>\n",
              "      <td>0.58</td>\n",
              "      <td>neutral</td>\n",
              "      <td>0.6837</td>\n",
              "    </tr>\n",
              "    <tr>\n",
              "      <th>3</th>\n",
              "      <td>6</td>\n",
              "      <td>@VirginAmerica yes, nearly every time I fly VX...</td>\n",
              "      <td>negative</td>\n",
              "      <td>0.62</td>\n",
              "      <td>positive</td>\n",
              "      <td>0.6745</td>\n",
              "    </tr>\n",
              "    <tr>\n",
              "      <th>4</th>\n",
              "      <td>7</td>\n",
              "      <td>@VirginAmerica Really missed a prime opportuni...</td>\n",
              "      <td>negative</td>\n",
              "      <td>0.89</td>\n",
              "      <td>neutral</td>\n",
              "      <td>0.6340</td>\n",
              "    </tr>\n",
              "  </tbody>\n",
              "</table>\n",
              "</div>"
            ],
            "text/plain": [
              "   index  ... sent_conf\n",
              "0      0  ...    1.0000\n",
              "1      1  ...    0.3486\n",
              "2      2  ...    0.6837\n",
              "3      6  ...    0.6745\n",
              "4      7  ...    0.6340\n",
              "\n",
              "[5 rows x 6 columns]"
            ]
          },
          "metadata": {
            "tags": []
          },
          "execution_count": 93
        }
      ]
    },
    {
      "cell_type": "markdown",
      "metadata": {
        "id": "2ghvK6XtDY1k",
        "colab_type": "text"
      },
      "source": [
        "As mention in the introduction, the sentiment of the dataset has confidence score for the assigned label. \n",
        "\n",
        "Below I am showing the tweets where the model predict the label with high confidence ( prob > 0.95) but the confidence score is below 0.5. as we can see, there are some tweets incorrectly labelled in the data set. For example, the tweet '@SouthwestAir thanks!!' is labelled as neutral when it is clearly a positive tweet'\n",
        "\n",
        "\n"
      ]
    },
    {
      "cell_type": "code",
      "metadata": {
        "id": "fJHFOlU_2AOf",
        "colab_type": "code",
        "outputId": "e7fe568a-65f0-497b-9957-c7f303947e5d",
        "colab": {
          "base_uri": "https://localhost:8080/",
          "height": 171
        }
      },
      "source": [
        "analysis_pd[(analysis_pd['prob']>0.95)&(analysis_pd['sent_conf']<0.5)]"
      ],
      "execution_count": 0,
      "outputs": [
        {
          "output_type": "execute_result",
          "data": {
            "text/html": [
              "<div>\n",
              "<style scoped>\n",
              "    .dataframe tbody tr th:only-of-type {\n",
              "        vertical-align: middle;\n",
              "    }\n",
              "\n",
              "    .dataframe tbody tr th {\n",
              "        vertical-align: top;\n",
              "    }\n",
              "\n",
              "    .dataframe thead th {\n",
              "        text-align: right;\n",
              "    }\n",
              "</style>\n",
              "<table border=\"1\" class=\"dataframe\">\n",
              "  <thead>\n",
              "    <tr style=\"text-align: right;\">\n",
              "      <th></th>\n",
              "      <th>index</th>\n",
              "      <th>tweet</th>\n",
              "      <th>sentiment</th>\n",
              "      <th>prob</th>\n",
              "      <th>true_sent</th>\n",
              "      <th>sent_conf</th>\n",
              "    </tr>\n",
              "  </thead>\n",
              "  <tbody>\n",
              "    <tr>\n",
              "      <th>761</th>\n",
              "      <td>4650</td>\n",
              "      <td>@SouthwestAir thanks!!</td>\n",
              "      <td>positive</td>\n",
              "      <td>0.98</td>\n",
              "      <td>neutral</td>\n",
              "      <td>0.3591</td>\n",
              "    </tr>\n",
              "    <tr>\n",
              "      <th>1364</th>\n",
              "      <td>7902</td>\n",
              "      <td>@JetBlue thanks anyways @SouthwestAir has my b...</td>\n",
              "      <td>positive</td>\n",
              "      <td>0.98</td>\n",
              "      <td>neutral</td>\n",
              "      <td>0.3602</td>\n",
              "    </tr>\n",
              "    <tr>\n",
              "      <th>1831</th>\n",
              "      <td>11184</td>\n",
              "      <td>@USAirways if you've got room on an earlier fl...</td>\n",
              "      <td>negative</td>\n",
              "      <td>0.97</td>\n",
              "      <td>neutral</td>\n",
              "      <td>0.3511</td>\n",
              "    </tr>\n",
              "  </tbody>\n",
              "</table>\n",
              "</div>"
            ],
            "text/plain": [
              "      index  ... sent_conf\n",
              "761    4650  ...    0.3591\n",
              "1364   7902  ...    0.3602\n",
              "1831  11184  ...    0.3511\n",
              "\n",
              "[3 rows x 6 columns]"
            ]
          },
          "metadata": {
            "tags": []
          },
          "execution_count": 97
        }
      ]
    },
    {
      "cell_type": "code",
      "metadata": {
        "id": "7shcJZ3OFJ6g",
        "colab_type": "code",
        "outputId": "325b0b52-e699-424a-d105-613de0d8760b",
        "colab": {
          "base_uri": "https://localhost:8080/",
          "height": 90
        }
      },
      "source": [
        "# This is a print of the tweets mentioned above\n",
        "analysis_pd[(analysis_pd['prob']>0.95)&(analysis_pd['sent_conf']<0.5)].tweet.tolist()"
      ],
      "execution_count": 0,
      "outputs": [
        {
          "output_type": "execute_result",
          "data": {
            "text/plain": [
              "['@SouthwestAir thanks!!',\n",
              " '@JetBlue thanks anyways @SouthwestAir has my back! Awesome rate &amp; amazing customer service #nomoreaggravation',\n",
              " \"@USAirways if you've got room on an earlier flight home, why charge me $75 to get on it? Be the hero!\"]"
            ]
          },
          "metadata": {
            "tags": []
          },
          "execution_count": 76
        }
      ]
    },
    {
      "cell_type": "markdown",
      "metadata": {
        "id": "SHzf5a5iHPaG",
        "colab_type": "text"
      },
      "source": [
        "The issue mentioned above appears as well in high confidence scored labels ( >0.8) where the sentiment predicted by the model makes more sense that the label provided in the dataset."
      ]
    },
    {
      "cell_type": "code",
      "metadata": {
        "id": "3UWPdPwtGb5C",
        "colab_type": "code",
        "outputId": "fdf71c31-f032-4a12-af34-3a315418ec8b",
        "colab": {
          "base_uri": "https://localhost:8080/",
          "height": 514
        }
      },
      "source": [
        "analysis_pd[(analysis_pd['prob']>0.95)&(analysis_pd['sent_conf']>0.8)][:10]"
      ],
      "execution_count": 0,
      "outputs": [
        {
          "output_type": "execute_result",
          "data": {
            "text/html": [
              "<div>\n",
              "<style scoped>\n",
              "    .dataframe tbody tr th:only-of-type {\n",
              "        vertical-align: middle;\n",
              "    }\n",
              "\n",
              "    .dataframe tbody tr th {\n",
              "        vertical-align: top;\n",
              "    }\n",
              "\n",
              "    .dataframe thead th {\n",
              "        text-align: right;\n",
              "    }\n",
              "</style>\n",
              "<table border=\"1\" class=\"dataframe\">\n",
              "  <thead>\n",
              "    <tr style=\"text-align: right;\">\n",
              "      <th></th>\n",
              "      <th>index</th>\n",
              "      <th>tweet</th>\n",
              "      <th>sentiment</th>\n",
              "      <th>prob</th>\n",
              "      <th>true_sent</th>\n",
              "      <th>sent_conf</th>\n",
              "    </tr>\n",
              "  </thead>\n",
              "  <tbody>\n",
              "    <tr>\n",
              "      <th>340</th>\n",
              "      <td>2003</td>\n",
              "      <td>@united I tried.   We were hung up on, twice. ...</td>\n",
              "      <td>negative</td>\n",
              "      <td>0.99</td>\n",
              "      <td>neutral</td>\n",
              "      <td>1.0</td>\n",
              "    </tr>\n",
              "    <tr>\n",
              "      <th>538</th>\n",
              "      <td>3380</td>\n",
              "      <td>@united still waiting for a response on whethe...</td>\n",
              "      <td>negative</td>\n",
              "      <td>0.97</td>\n",
              "      <td>neutral</td>\n",
              "      <td>1.0</td>\n",
              "    </tr>\n",
              "    <tr>\n",
              "      <th>628</th>\n",
              "      <td>3862</td>\n",
              "      <td>@united thanks for reaching out. The seat was ...</td>\n",
              "      <td>positive</td>\n",
              "      <td>0.96</td>\n",
              "      <td>negative</td>\n",
              "      <td>1.0</td>\n",
              "    </tr>\n",
              "    <tr>\n",
              "      <th>699</th>\n",
              "      <td>4343</td>\n",
              "      <td>@SouthwestAir I have been on hold for over 28 ...</td>\n",
              "      <td>negative</td>\n",
              "      <td>0.96</td>\n",
              "      <td>neutral</td>\n",
              "      <td>1.0</td>\n",
              "    </tr>\n",
              "    <tr>\n",
              "      <th>887</th>\n",
              "      <td>5529</td>\n",
              "      <td>@SouthwestAir OMG OMG OMG !!! I JUST DID!!</td>\n",
              "      <td>positive</td>\n",
              "      <td>0.98</td>\n",
              "      <td>neutral</td>\n",
              "      <td>1.0</td>\n",
              "    </tr>\n",
              "    <tr>\n",
              "      <th>1583</th>\n",
              "      <td>8971</td>\n",
              "      <td>@USAirways never received such horrible servic...</td>\n",
              "      <td>negative</td>\n",
              "      <td>1.00</td>\n",
              "      <td>neutral</td>\n",
              "      <td>1.0</td>\n",
              "    </tr>\n",
              "    <tr>\n",
              "      <th>1584</th>\n",
              "      <td>8975</td>\n",
              "      <td>@USAirways agree! Richard P. Literally ripped ...</td>\n",
              "      <td>negative</td>\n",
              "      <td>0.99</td>\n",
              "      <td>neutral</td>\n",
              "      <td>1.0</td>\n",
              "    </tr>\n",
              "    <tr>\n",
              "      <th>1595</th>\n",
              "      <td>9026</td>\n",
              "      <td>@USAirways and now you can't even accommodate ...</td>\n",
              "      <td>negative</td>\n",
              "      <td>0.99</td>\n",
              "      <td>neutral</td>\n",
              "      <td>1.0</td>\n",
              "    </tr>\n",
              "    <tr>\n",
              "      <th>1596</th>\n",
              "      <td>9031</td>\n",
              "      <td>@USAirways  2 calls &amp;amp; wasted 3 hrs on hold...</td>\n",
              "      <td>negative</td>\n",
              "      <td>0.97</td>\n",
              "      <td>neutral</td>\n",
              "      <td>1.0</td>\n",
              "    </tr>\n",
              "    <tr>\n",
              "      <th>1611</th>\n",
              "      <td>9110</td>\n",
              "      <td>@USAirways &amp;amp; @AmericanAir: 1 flight Cancel...</td>\n",
              "      <td>negative</td>\n",
              "      <td>0.97</td>\n",
              "      <td>neutral</td>\n",
              "      <td>1.0</td>\n",
              "    </tr>\n",
              "  </tbody>\n",
              "</table>\n",
              "</div>"
            ],
            "text/plain": [
              "      index  ... sent_conf\n",
              "340    2003  ...       1.0\n",
              "538    3380  ...       1.0\n",
              "628    3862  ...       1.0\n",
              "699    4343  ...       1.0\n",
              "887    5529  ...       1.0\n",
              "1583   8971  ...       1.0\n",
              "1584   8975  ...       1.0\n",
              "1595   9026  ...       1.0\n",
              "1596   9031  ...       1.0\n",
              "1611   9110  ...       1.0\n",
              "\n",
              "[10 rows x 6 columns]"
            ]
          },
          "metadata": {
            "tags": []
          },
          "execution_count": 99
        }
      ]
    },
    {
      "cell_type": "code",
      "metadata": {
        "id": "XE4HIsw8G9HC",
        "colab_type": "code",
        "outputId": "1f4f6fb4-5251-4f01-f183-ff649e5d0f6e",
        "colab": {
          "base_uri": "https://localhost:8080/",
          "height": 214
        }
      },
      "source": [
        "analysis_pd[(analysis_pd['prob']>0.95)&(analysis_pd['sent_conf']>0.8)][:10].tweet.tolist()"
      ],
      "execution_count": 0,
      "outputs": [
        {
          "output_type": "execute_result",
          "data": {
            "text/plain": [
              "['@united I tried.   We were hung up on, twice. After speaking with someone, then put on hold for 45 minutes.  No resolution.',\n",
              " '@united still waiting for a response on whether or not you allow use of a rear facing car seat on an ERJ145.',\n",
              " '@united thanks for reaching out. The seat was hard, not enough cushion. OK for short flight. BTW, UA6465 flight and crew were great!',\n",
              " '@SouthwestAir I have been on hold for over 28 minutes  please help http://t.co/Fx9BIJlxAt',\n",
              " '@SouthwestAir OMG OMG OMG !!! I JUST DID!!',\n",
              " '@USAirways never received such horrible service or treated so poorly as Richard P. today. No excuse for attitude &amp; ripping up our tickets!',\n",
              " '@USAirways agree! Richard P. Literally ripped up our tixs in our faces and made rude, inappropriate comments to us and our family. Awful!',\n",
              " \"@USAirways and now you can't even accommodate us by letting us fly in to another airport?! Horrible service for your fault!!!\",\n",
              " \"@USAirways  2 calls &amp; wasted 3 hrs on hold to change my coming divided awards weather reLate Flightd flight. Y'all disconnected me 2x. Please help.\",\n",
              " '@USAirways &amp; @AmericanAir: 1 flight Cancelled Flightled yesterday and now a delay today has robbed my daughter of 2 days with her grandparents. Thanks']"
            ]
          },
          "metadata": {
            "tags": []
          },
          "execution_count": 100
        }
      ]
    },
    {
      "cell_type": "markdown",
      "metadata": {
        "id": "1IDE7rVwmcMj",
        "colab_type": "text"
      },
      "source": [
        "## 5.Conclusion"
      ]
    },
    {
      "cell_type": "markdown",
      "metadata": {
        "id": "q3IZk_IOmpuY",
        "colab_type": "text"
      },
      "source": [
        "I can conclude that the classification model works pretty well for this dataset even the dataset is not perfectly balanced and some labels are incorrect. As shown in the result analysis, when the model has a high confidence, it is likely to predict the right sentiment.\n",
        "\n",
        "with regards the accuracy of the model, I could improve it by skiping the tweets which have low confidence score for the assigned label.\n",
        "\n"
      ]
    },
    {
      "cell_type": "code",
      "metadata": {
        "id": "0eRXvAhvuN1C",
        "colab_type": "code",
        "colab": {}
      },
      "source": [
        "freq_prob=analysis_pd['prob'].values.tolist()\n"
      ],
      "execution_count": 0,
      "outputs": []
    },
    {
      "cell_type": "code",
      "metadata": {
        "id": "wMgA6wshxi6i",
        "colab_type": "code",
        "colab": {}
      },
      "source": [
        "def CountFrequency(test_list): \n",
        "  \n",
        "    # Creating an empty dictionary  \n",
        "    freq_test={}\n",
        "\n",
        "  \n",
        "    for item in test_list: \n",
        "      if (item in freq_test): \n",
        "          freq_test[item] += 1\n",
        "      else: \n",
        "          freq_test[item] = 1\n",
        "\n",
        "    \n",
        "    f = plt.figure(figsize=(12,3))\n",
        "    #ax = f.add_subplot(121)\n",
        "\n",
        "   \n",
        "    \n",
        "    plt.title('Freq analysis test data set')\n",
        "    plt.ylabel('Frequency')\n",
        "    plt.plot(freq_test.keys(), freq_test.values(), '*')\n",
        "\n",
        "    "
      ],
      "execution_count": 0,
      "outputs": []
    },
    {
      "cell_type": "code",
      "metadata": {
        "id": "7NonjTuAx07n",
        "colab_type": "code",
        "outputId": "0f1e0298-5260-4b5e-ea40-07065cafaa64",
        "colab": {
          "base_uri": "https://localhost:8080/",
          "height": 246
        }
      },
      "source": [
        "CountFrequency(freq_prob)"
      ],
      "execution_count": 0,
      "outputs": [
        {
          "output_type": "display_data",
          "data": {
            "image/png": "[encoded data removed]",
            "text/plain": [
              "<Figure size 864x216 with 1 Axes>"
            ]
          },
          "metadata": {
            "tags": []
          }
        }
      ]
    },
    {
      "cell_type": "code",
      "metadata": {
        "id": "1gaqvisn751y",
        "colab_type": "code",
        "outputId": "d143a597-bdf7-4a74-e9c9-72525b7f4027",
        "colab": {
          "base_uri": "https://localhost:8080/",
          "height": 312
        }
      },
      "source": [
        "prob=analysis_pd['prob'].tolist()\n",
        "conf=analysis_pd['sent_conf'].tolist()\n",
        "plt.plot(prob, conf, '*')\n",
        "plt.title('Confidence data set Vs confidence model')\n",
        "plt.ylabel('label confidence in the dataset')\n",
        "plt.xlabel('label confidence by the model')\n",
        "\n"
      ],
      "execution_count": 0,
      "outputs": [
        {
          "output_type": "execute_result",
          "data": {
            "text/plain": [
              "Text(0.5, 0, 'label confidence by the model')"
            ]
          },
          "metadata": {
            "tags": []
          },
          "execution_count": 103
        },
        {
          "output_type": "display_data",
          "data": {
            "image/png": "[encoded data removed]",
            "text/plain": [
              "<Figure size 432x288 with 1 Axes>"
            ]
          },
          "metadata": {
            "tags": []
          }
        }
      ]
    },
    {
      "cell_type": "code",
      "metadata": {
        "id": "GK0sEZqrsIe5",
        "colab_type": "code",
        "colab": {}
      },
      "source": [
        ""
      ],
      "execution_count": 0,
      "outputs": []
    }
  ]
}